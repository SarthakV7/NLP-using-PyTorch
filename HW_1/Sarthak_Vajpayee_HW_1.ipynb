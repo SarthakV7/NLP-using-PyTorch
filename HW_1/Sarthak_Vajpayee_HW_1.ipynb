{
  "cells": [
    {
      "cell_type": "markdown",
      "id": "Q4vVUgxxDJD0",
      "metadata": {
        "id": "Q4vVUgxxDJD0"
      },
      "source": [
        "# <font color = dodgerred>**HW1 - 15 Points** </font>\n",
        "- **You have to submit two files for this part of the HW**\n",
        "  >(1) ipynb (colab notebook) and<br>\n",
        "  >(2) pdf file (pdf version of the colab file).**\n",
        "- **Files should be named as follows**:\n",
        ">FirstName_LastName_HW_1**\n"
      ]
    },
    {
      "cell_type": "code",
      "execution_count": 1,
      "id": "IsWkg1CufBwg",
      "metadata": {
        "id": "IsWkg1CufBwg"
      },
      "outputs": [],
      "source": [
        "import torch\n",
        "import time"
      ]
    },
    {
      "cell_type": "markdown",
      "id": "2Voz6l5RUZRh",
      "metadata": {
        "id": "2Voz6l5RUZRh"
      },
      "source": [
        "# <font color = dodgerred>**Q1 : Create Tensor (1/2 Point)**\n",
        " Create a torch Tensor of shape (5, 3) which is filled with zeros. Modify the tensor to set element (0, 2) to 10 and element (2, 0)  to 100."
      ]
    },
    {
      "cell_type": "code",
      "execution_count": 2,
      "id": "bI9MwTaamhis",
      "metadata": {
        "id": "bI9MwTaamhis"
      },
      "outputs": [],
      "source": [
        "my_tensor = torch.zeros(5,3)\n",
        "my_tensor[0,2] = 10\n",
        "my_tensor[2,0] = 100"
      ]
    },
    {
      "cell_type": "code",
      "execution_count": 3,
      "id": "7QEV2uq-yqZK",
      "metadata": {
        "colab": {
          "base_uri": "https://localhost:8080/",
          "height": 0
        },
        "id": "7QEV2uq-yqZK",
        "outputId": "34eaa974-ee27-4ad3-de99-cc02c00332a8"
      },
      "outputs": [
        {
          "output_type": "execute_result",
          "data": {
            "text/plain": [
              "torch.Size([5, 3])"
            ]
          },
          "metadata": {},
          "execution_count": 3
        }
      ],
      "source": [
        "my_tensor.shape"
      ]
    },
    {
      "cell_type": "code",
      "execution_count": 4,
      "id": "yAxzhRVGyr6c",
      "metadata": {
        "colab": {
          "base_uri": "https://localhost:8080/",
          "height": 0
        },
        "id": "yAxzhRVGyr6c",
        "outputId": "50455779-f4d7-4215-cac1-90d8e1f0433a"
      },
      "outputs": [
        {
          "output_type": "execute_result",
          "data": {
            "text/plain": [
              "tensor([[  0.,   0.,  10.],\n",
              "        [  0.,   0.,   0.],\n",
              "        [100.,   0.,   0.],\n",
              "        [  0.,   0.,   0.],\n",
              "        [  0.,   0.,   0.]])"
            ]
          },
          "metadata": {},
          "execution_count": 4
        }
      ],
      "source": [
        "my_tensor"
      ]
    },
    {
      "cell_type": "code",
      "execution_count": 5,
      "id": "FCM4GuyWylQV",
      "metadata": {
        "id": "FCM4GuyWylQV"
      },
      "outputs": [],
      "source": [
        "# Manually set the value at the first row and third column to 10,\n",
        "# and the value at the third row and first column to 100 in the tensor named \"my_tensor\".\n",
        "\n",
        "my_tensor[0,2] = 10\n",
        "my_tensor[2,0] = 100"
      ]
    },
    {
      "cell_type": "code",
      "execution_count": 6,
      "id": "ZdEftwuPyyx9",
      "metadata": {
        "colab": {
          "base_uri": "https://localhost:8080/",
          "height": 0
        },
        "id": "ZdEftwuPyyx9",
        "outputId": "38a8d346-2cba-42a2-f32d-a8eadcdb4a8e"
      },
      "outputs": [
        {
          "output_type": "execute_result",
          "data": {
            "text/plain": [
              "tensor([[  0.,   0.,  10.],\n",
              "        [  0.,   0.,   0.],\n",
              "        [100.,   0.,   0.],\n",
              "        [  0.,   0.,   0.],\n",
              "        [  0.,   0.,   0.]])"
            ]
          },
          "metadata": {},
          "execution_count": 6
        }
      ],
      "source": [
        "my_tensor"
      ]
    },
    {
      "cell_type": "markdown",
      "id": "6Eoa6rF80ZTa",
      "metadata": {
        "id": "6Eoa6rF80ZTa"
      },
      "source": [
        "# <font color = dodgerred>**Q2: Reshape tensor (1/2 Point)**\n",
        "You have following tensor as input:\n",
        "\n",
        "```x=torch.tensor([0, 1, 2, 3, 4, 5, 6, 7, 8, 9, 10, 11, 12, 13, 14, 15, 16, 17, 18, 19, 20, 21, 22, 23])```\n",
        "\n",
        "Using only reshaping functions (like view, reshape, transpose, permute), you need to get at the following tensor as output:\n",
        "\n",
        "```\n",
        "tensor([[ 0,  4,  8, 12, 16, 20],\n",
        "        [ 1,  5,  9, 13, 17, 21],\n",
        "        [ 2,  6, 10, 14, 18, 22],\n",
        "        [ 3,  7, 11, 15, 19, 23]])\n",
        "```\n",
        "\n"
      ]
    },
    {
      "cell_type": "code",
      "execution_count": 7,
      "id": "LDBQ6kYZ-JRV",
      "metadata": {
        "id": "LDBQ6kYZ-JRV"
      },
      "outputs": [],
      "source": [
        "x = torch.tensor([0, 1, 2, 3, 4, 5, 6, 7, 8, 9, 10, 11, 12, 13, 14, 15, 16, 17, 18, 19, 20, 21, 22, 23])"
      ]
    },
    {
      "cell_type": "code",
      "execution_count": 8,
      "id": "b6_SdFS-ke_x",
      "metadata": {
        "colab": {
          "base_uri": "https://localhost:8080/",
          "height": 0
        },
        "id": "b6_SdFS-ke_x",
        "outputId": "a61efccb-3290-41fd-a3bb-0abefea6853e"
      },
      "outputs": [
        {
          "output_type": "execute_result",
          "data": {
            "text/plain": [
              "tensor([[ 0,  4,  8, 12, 16, 20],\n",
              "        [ 1,  5,  9, 13, 17, 21],\n",
              "        [ 2,  6, 10, 14, 18, 22],\n",
              "        [ 3,  7, 11, 15, 19, 23]])"
            ]
          },
          "metadata": {},
          "execution_count": 8
        }
      ],
      "source": [
        "x = x.view(-1,4).T\n",
        "# x = x.view(-1,4).permute(1,0)\n",
        "x"
      ]
    },
    {
      "cell_type": "markdown",
      "id": "dnw5qi7A4ysc",
      "metadata": {
        "id": "dnw5qi7A4ysc"
      },
      "source": [
        "# <font color = dodgerred>**Q3: Slice tensor (1Point)**\n",
        "\n",
        "- Slice the tensor x to get the following\n",
        ">- last row of x\n",
        ">- fourth column of x\n",
        ">- first three rows and first two columns - the shape of subtensor should be (3,2)\n",
        ">- odd valued rows and columns"
      ]
    },
    {
      "cell_type": "code",
      "execution_count": 9,
      "id": "STbUdF0J5IBD",
      "metadata": {
        "colab": {
          "base_uri": "https://localhost:8080/",
          "height": 0
        },
        "id": "STbUdF0J5IBD",
        "outputId": "5bc6098d-f365-4b54-e276-51cbcce4eebf"
      },
      "outputs": [
        {
          "output_type": "execute_result",
          "data": {
            "text/plain": [
              "tensor([[ 1,  2,  3,  4,  5],\n",
              "        [ 6,  7,  8,  8, 10],\n",
              "        [11, 12, 13, 14, 15]])"
            ]
          },
          "metadata": {},
          "execution_count": 9
        }
      ],
      "source": [
        "x = torch.tensor([[1, 2, 3, 4, 5], [6, 7, 8, 8, 10], [11, 12, 13, 14, 15]])\n",
        "x"
      ]
    },
    {
      "cell_type": "code",
      "execution_count": 10,
      "id": "mgHPm0qP5ZU3",
      "metadata": {
        "colab": {
          "base_uri": "https://localhost:8080/",
          "height": 0
        },
        "id": "mgHPm0qP5ZU3",
        "outputId": "8ef52c47-5546-414c-8881-188eb20399d8"
      },
      "outputs": [
        {
          "output_type": "execute_result",
          "data": {
            "text/plain": [
              "torch.Size([3, 5])"
            ]
          },
          "metadata": {},
          "execution_count": 10
        }
      ],
      "source": [
        "x.shape"
      ]
    },
    {
      "cell_type": "code",
      "execution_count": 11,
      "id": "hzQRs79A5JGd",
      "metadata": {
        "colab": {
          "base_uri": "https://localhost:8080/",
          "height": 0
        },
        "id": "hzQRs79A5JGd",
        "outputId": "fa64822e-f3b0-4ec2-d93b-06dd27689e36"
      },
      "outputs": [
        {
          "output_type": "execute_result",
          "data": {
            "text/plain": [
              "tensor([11, 12, 13, 14, 15])"
            ]
          },
          "metadata": {},
          "execution_count": 11
        }
      ],
      "source": [
        "# Student Task: Retrieve the last row of the tensor 'x'\n",
        "# Hint: Negative indexing can help you select rows or columns counting from the end of the tensor.\n",
        "# Think about how you can select all columns for the desired row.\n",
        "last_row = x[-1,:]\n",
        "last_row"
      ]
    },
    {
      "cell_type": "code",
      "execution_count": 12,
      "id": "-mb_Et866ZEW",
      "metadata": {
        "colab": {
          "base_uri": "https://localhost:8080/",
          "height": 0
        },
        "id": "-mb_Et866ZEW",
        "outputId": "1f44b63e-a931-4849-eb8b-a399d83770a9"
      },
      "outputs": [
        {
          "output_type": "execute_result",
          "data": {
            "text/plain": [
              "tensor([ 4,  8, 14])"
            ]
          },
          "metadata": {},
          "execution_count": 12
        }
      ],
      "source": [
        "# Student Task: Retrieve the fourth column of the tensor 'x'\n",
        "# Hint: Pay attention to the indexing for both rows and columns.\n",
        "# Remember that indexing in Python starts from zero.\n",
        "fourth_column = x[:,3]\n",
        "fourth_column"
      ]
    },
    {
      "cell_type": "code",
      "execution_count": 13,
      "id": "c2VaG6Y16jsA",
      "metadata": {
        "colab": {
          "base_uri": "https://localhost:8080/",
          "height": 0
        },
        "id": "c2VaG6Y16jsA",
        "outputId": "632ec655-c27e-49c8-ec3a-3d7e30037d21"
      },
      "outputs": [
        {
          "output_type": "execute_result",
          "data": {
            "text/plain": [
              "tensor([[ 1,  2],\n",
              "        [ 6,  7],\n",
              "        [11, 12]])"
            ]
          },
          "metadata": {},
          "execution_count": 13
        }
      ],
      "source": [
        "# Student Task: Retrieve the first 3 rows and first 2 columns from the tensor 'x'.\n",
        "# Hint: Use slicing to extract the required subset of rows and columns.\n",
        "first_3_rows_2_columns = x[:3,:2]\n",
        "first_3_rows_2_columns"
      ]
    },
    {
      "cell_type": "code",
      "execution_count": 14,
      "id": "RHnSUpxs7O82",
      "metadata": {
        "colab": {
          "base_uri": "https://localhost:8080/",
          "height": 0
        },
        "id": "RHnSUpxs7O82",
        "outputId": "54eab66c-8e54-4f52-e08c-7810d57c65d9"
      },
      "outputs": [
        {
          "output_type": "execute_result",
          "data": {
            "text/plain": [
              "tensor([[7, 8]])"
            ]
          },
          "metadata": {},
          "execution_count": 14
        }
      ],
      "source": [
        "# Student Task: Retrieve the rows and columns with odd-indexed positions from the tensor 'x'.\n",
        "# Hint: Use stride slicing to extract the required subset of rows and columns with odd indices.\n",
        "odd_valued_rows_columns = x[1::2, 1::2]\n",
        "odd_valued_rows_columns"
      ]
    },
    {
      "cell_type": "markdown",
      "id": "uSj20OEuf6bf",
      "metadata": {
        "id": "uSj20OEuf6bf"
      },
      "source": [
        "#  <font color = dodgerred>**Q4 -Normalize Function (1/2 Points)**<font>\n",
        "\n",
        "Write the function that normalizes the columns of a matrix. You have to compute the mean and standard deviation of each column. Then for each element of the column, you subtract the mean and divide by the standard deviation."
      ]
    },
    {
      "cell_type": "code",
      "execution_count": 15,
      "id": "8L9JBFNilkWt",
      "metadata": {
        "id": "8L9JBFNilkWt"
      },
      "outputs": [],
      "source": [
        "# Given Data\n",
        "x = [[ 3,  60,  100, -100],\n",
        "     [ 2,  20,  600, -600],\n",
        "     [-5,  50,  900, -900]]"
      ]
    },
    {
      "cell_type": "code",
      "execution_count": 16,
      "id": "iRrhopVBl-0q",
      "metadata": {
        "id": "iRrhopVBl-0q"
      },
      "outputs": [],
      "source": [
        "# Convert to PyTorch Tensor and set to float\n",
        "X = torch.tensor(x)\n",
        "X= X.float()"
      ]
    },
    {
      "cell_type": "code",
      "execution_count": 17,
      "id": "S2MaocHxmEQJ",
      "metadata": {
        "colab": {
          "base_uri": "https://localhost:8080/",
          "height": 0
        },
        "id": "S2MaocHxmEQJ",
        "outputId": "b629a54e-d571-4eb9-f518-305d3a91e822"
      },
      "outputs": [
        {
          "output_type": "stream",
          "name": "stdout",
          "text": [
            "torch.Size([3, 4])\n",
            "torch.float32\n"
          ]
        }
      ],
      "source": [
        "# Print shape and data type for verification\n",
        "print(X.shape)\n",
        "print(X.dtype)"
      ]
    },
    {
      "cell_type": "code",
      "execution_count": 18,
      "id": "rPgb1L9RmQAU",
      "metadata": {
        "colab": {
          "base_uri": "https://localhost:8080/",
          "height": 0
        },
        "id": "rPgb1L9RmQAU",
        "outputId": "bde80aea-3e0c-42b4-8f5d-2482760a84eb"
      },
      "outputs": [
        {
          "output_type": "execute_result",
          "data": {
            "text/plain": [
              "tensor([   0.0000,   43.3333,  533.3333, -533.3333])"
            ]
          },
          "metadata": {},
          "execution_count": 18
        }
      ],
      "source": [
        "# Compute and display the mean and standard deviation of each column for reference\n",
        "X.mean(axis = 0)"
      ]
    },
    {
      "cell_type": "code",
      "execution_count": 19,
      "id": "qnM87Db1mqFH",
      "metadata": {
        "colab": {
          "base_uri": "https://localhost:8080/",
          "height": 0
        },
        "id": "qnM87Db1mqFH",
        "outputId": "a46f65ba-4752-49a8-fb90-ce941f4aa8d0"
      },
      "outputs": [
        {
          "output_type": "execute_result",
          "data": {
            "text/plain": [
              "tensor([  4.3589,  20.8167, 404.1452, 404.1452])"
            ]
          },
          "metadata": {},
          "execution_count": 19
        }
      ],
      "source": [
        "X.std(axis = 0)"
      ]
    },
    {
      "cell_type": "markdown",
      "source": [
        "- Your task starts here\n",
        "- Your normalize_matrix function should take a PyTorch tensor x as input.\n",
        "- It should return a tensor where the columns are normalized.\n",
        "- After implementing your function, use the code provided to verify if the mean for each column in Z is close to zero and the standard deviation is 1."
      ],
      "metadata": {
        "id": "Yy2hehDnJHOq"
      },
      "id": "Yy2hehDnJHOq"
    },
    {
      "cell_type": "code",
      "execution_count": 20,
      "id": "mwq8qnqFlu9V",
      "metadata": {
        "id": "mwq8qnqFlu9V"
      },
      "outputs": [],
      "source": [
        "def normalize_matrix(x):\n",
        "  # Calculate the mean along each column (think carefully , you will take mean along axis = 0 or 1)\n",
        "  mean = x.mean(axis=0)\n",
        "\n",
        "  # Calculate the standard deviation along each column\n",
        "  std = x.std(axis=0)\n",
        "\n",
        "  # Normalize each element in the columns by subtracting the mean and dividing by the standard deviation\n",
        "  y = (x - mean)/std\n",
        "\n",
        "  return y  # Return the normalized matrix"
      ]
    },
    {
      "cell_type": "code",
      "source": [
        "Z = normalize_matrix(X)\n",
        "Z"
      ],
      "metadata": {
        "colab": {
          "base_uri": "https://localhost:8080/",
          "height": 0
        },
        "id": "H85c2TZQkpvu",
        "outputId": "9b300190-4188-47ce-de73-d152613d7733"
      },
      "id": "H85c2TZQkpvu",
      "execution_count": 21,
      "outputs": [
        {
          "output_type": "execute_result",
          "data": {
            "text/plain": [
              "tensor([[ 0.6882,  0.8006, -1.0722,  1.0722],\n",
              "        [ 0.4588, -1.1209,  0.1650, -0.1650],\n",
              "        [-1.1471,  0.3203,  0.9073, -0.9073]])"
            ]
          },
          "metadata": {},
          "execution_count": 21
        }
      ]
    },
    {
      "cell_type": "code",
      "execution_count": 22,
      "id": "78-0D3KfnHel",
      "metadata": {
        "colab": {
          "base_uri": "https://localhost:8080/",
          "height": 0
        },
        "id": "78-0D3KfnHel",
        "outputId": "6180bde0-4607-4c9f-fffe-e761ef1e981e"
      },
      "outputs": [
        {
          "output_type": "execute_result",
          "data": {
            "text/plain": [
              "tensor([ 0.0000e+00,  4.9671e-08,  3.9736e-08, -3.9736e-08])"
            ]
          },
          "metadata": {},
          "execution_count": 22
        }
      ],
      "source": [
        "Z.mean(axis = 0)"
      ]
    },
    {
      "cell_type": "code",
      "source": [
        "Z.std(axis = 0)"
      ],
      "metadata": {
        "colab": {
          "base_uri": "https://localhost:8080/"
        },
        "id": "QtwsiYb69z60",
        "outputId": "d13d81cb-4d98-44cf-e2ea-e97634f4aa84"
      },
      "id": "QtwsiYb69z60",
      "execution_count": 59,
      "outputs": [
        {
          "output_type": "execute_result",
          "data": {
            "text/plain": [
              "tensor([1., 1., 1., 1.])"
            ]
          },
          "metadata": {},
          "execution_count": 59
        }
      ]
    },
    {
      "cell_type": "markdown",
      "metadata": {
        "id": "cc32848b"
      },
      "source": [
        "# <font color = 'dodgerred'>**Q5: In-place vs. Out-of-place Operations (1 Point)**\n",
        "\n",
        "1. Create a tensor `A` with values `[1, 2, 3]`.\n",
        "2. Perform an in-place addition (use `add_` method) of `5` to tensor `A`.\n",
        "3. Then, create another tensor `B` with values `[4, 5, 6]` and perform an out-of-place addition of `5`.\n",
        "\n",
        "**Print the memory addresses of `A` and `B` before and after the operations to demonstrate the difference in memory usage. Provide explanation**\n"
      ],
      "id": "cc32848b"
    },
    {
      "cell_type": "code",
      "execution_count": 23,
      "metadata": {
        "id": "19b3aaa5",
        "colab": {
          "base_uri": "https://localhost:8080/",
          "height": 0
        },
        "outputId": "b05ca268-0055-48b4-e969-3001b6f76f7e"
      },
      "outputs": [
        {
          "output_type": "stream",
          "name": "stdout",
          "text": [
            "Original memory address of A: 136932401851552\n",
            "Memory address of A after in-place addition: 136932401851552\n",
            "A after in-place addition: tensor([6, 7, 8])\n",
            "Original memory address of B: 136932401852912\n",
            "Memory address of B after out-of-place addition: 136932401852832\n",
            "B after out-of-place addition: tensor([ 9, 10, 11])\n"
          ]
        }
      ],
      "source": [
        "A = torch.tensor([1, 2, 3])\n",
        "print('Original memory address of A:', id(A))\n",
        "A.add_(5)\n",
        "print('Memory address of A after in-place addition:', id(A))\n",
        "print('A after in-place addition:', A)\n",
        "\n",
        "B = torch.tensor([4, 5, 6])\n",
        "print('Original memory address of B:', id(B))\n",
        "B = B + 5\n",
        "print('Memory address of B after out-of-place addition:', id(B))\n",
        "print('B after out-of-place addition:', B)"
      ],
      "id": "19b3aaa5"
    },
    {
      "cell_type": "markdown",
      "source": [
        "**Provide Explanation for above question here :**\n",
        "\n",
        "1. In-place operations modify the content of the initial tensor, while out-of-place operations produce a new tensor holding the altered data.\n",
        "2. In the case of an in-place operation, the original tensor's memory location remains unaffected, as the modification occurs directly within it.\n",
        "3. Conversely, out-of-place operations involve the creation of a new tensor containing the updated data, resulting in a different memory address compared to the original tensor.\n",
        "\n"
      ],
      "metadata": {
        "id": "aXi2TsYVElqy"
      },
      "id": "aXi2TsYVElqy"
    },
    {
      "cell_type": "markdown",
      "metadata": {
        "id": "f57bb1a4"
      },
      "source": [
        "# <font color = 'dodgerred'>**Q6: Tensor Broadcasting (1 Point)**\n",
        "\n",
        "1. Create two tensors `X` with shape `(3, 1)` and `Y` with shape `(1, 3)`. Perform an addition operation on `X` and `Y`.\n",
        "2. Explain how broadcasting is applied in this operation by describing the shape changes that occur internally."
      ],
      "id": "f57bb1a4"
    },
    {
      "cell_type": "code",
      "execution_count": 24,
      "metadata": {
        "id": "699f9bd9",
        "colab": {
          "base_uri": "https://localhost:8080/",
          "height": 0
        },
        "outputId": "40937970-f0d8-43cd-d9fd-9dc0706c1ab8"
      },
      "outputs": [
        {
          "output_type": "stream",
          "name": "stdout",
          "text": [
            "Original shapes: torch.Size([3, 1]) torch.Size([1, 3])\n",
            "Result: tensor([[19, 30, 26],\n",
            "        [14, 25, 21],\n",
            "        [15, 26, 22]])\n",
            "Result shape: torch.Size([3, 3])\n"
          ]
        }
      ],
      "source": [
        "X = torch.randint(low=0, high=20, size=(3,1))\n",
        "Y = torch.randint(low=0, high=20, size=(1,3))\n",
        "print('Original shapes:', X.shape, Y.shape)\n",
        "result = X + Y\n",
        "print('Result:', result)\n",
        "print('Result shape:', result.shape)"
      ],
      "id": "699f9bd9"
    },
    {
      "cell_type": "markdown",
      "source": [
        "**Provide Explanation for above question here :**\n",
        "\n",
        "In this operation, broadcasting allows tensors X and Y to be added together, despite their differing shapes. Broadcasting expands the dimensions of each tensor to match the dimensions of the other tensor, facilitating element-wise addition. As a result, the final shape of the result tensor is (3, 3).\n",
        "\n"
      ],
      "metadata": {
        "id": "IblSVvPhE4-E"
      },
      "id": "IblSVvPhE4-E"
    },
    {
      "cell_type": "markdown",
      "metadata": {
        "id": "e1f2667e"
      },
      "source": [
        "# <font color = 'dodgerred'>**Q7: Linear Algebra Operations (1 Point)**\n",
        "\n",
        "1. Create two matrices `M1` and `M2` of compatible shapes for matrix multiplication. Perform the multiplication and print the result.\n",
        "2. Then, create two vectors `V1` and `V2` and compute their dot product.\n"
      ],
      "id": "e1f2667e"
    },
    {
      "cell_type": "code",
      "source": [
        "torch.randint(low=0, high=10, size=(4,))"
      ],
      "metadata": {
        "colab": {
          "base_uri": "https://localhost:8080/",
          "height": 0
        },
        "id": "HzFEdIIi3UJn",
        "outputId": "10242491-017b-4901-9b3d-c2a2b91ab594"
      },
      "id": "HzFEdIIi3UJn",
      "execution_count": 25,
      "outputs": [
        {
          "output_type": "execute_result",
          "data": {
            "text/plain": [
              "tensor([0, 2, 1, 2])"
            ]
          },
          "metadata": {},
          "execution_count": 25
        }
      ]
    },
    {
      "cell_type": "code",
      "execution_count": 26,
      "metadata": {
        "colab": {
          "base_uri": "https://localhost:8080/",
          "height": 0
        },
        "id": "d45aed18",
        "outputId": "21db8e68-fadd-4bdd-e5e2-e738e80c074d"
      },
      "outputs": [
        {
          "output_type": "stream",
          "name": "stdout",
          "text": [
            "Matrix multiplication result: tensor([[ 76,  91],\n",
            "        [ 68, 127],\n",
            "        [110, 153]])\n",
            "Dot product: tensor(44)\n"
          ]
        }
      ],
      "source": [
        "M1 = torch.randint(low=0, high=10, size=(3,5))\n",
        "M2 = torch.randint(low=0, high=10, size=(5,2))\n",
        "mat_multiplication =  M1 @ M2\n",
        "print('Matrix multiplication result:', mat_multiplication)\n",
        "\n",
        "V1 = torch.randint(low=0, high=10, size=(4,))\n",
        "V2 = torch.randint(low=0, high=10, size=(4,))\n",
        "dot_product =  torch.dot(V1, V2)\n",
        "print('Dot product:', dot_product)"
      ],
      "id": "d45aed18"
    },
    {
      "cell_type": "markdown",
      "metadata": {
        "id": "fe24a961"
      },
      "source": [
        "# <font color = 'dodgerred'>**Q8: Manipulating Tensor Shapes (1 Point)**\n",
        "\n",
        "Given a tensor `T` with shape `(2, 3, 4)`, demonstrate how to\n",
        "1. reshape it to `(3, 8)` using view,\n",
        "2. reshape it to `(4, 2, 3` using reshape,\n",
        "3. transpose the first and last dimensions using permute.\n",
        "4. explain what is the difference between reshape and view"
      ],
      "id": "fe24a961"
    },
    {
      "cell_type": "code",
      "execution_count": 27,
      "metadata": {
        "id": "0644b861",
        "colab": {
          "base_uri": "https://localhost:8080/",
          "height": 0
        },
        "outputId": "075cc4a7-9adc-4774-ce63-7d83b519c736"
      },
      "outputs": [
        {
          "output_type": "stream",
          "name": "stdout",
          "text": [
            "T_view shape: torch.Size([3, 8])\n",
            "T_reshape shape: torch.Size([4, 2, 3])\n",
            "T_permute shape: torch.Size([4, 3, 2])\n"
          ]
        }
      ],
      "source": [
        "T = torch.rand(2, 3, 4)\n",
        "T_view = T.view(3,8)\n",
        "print('T_view shape:', T_view.shape)\n",
        "\n",
        "T_reshape = T.reshape(4, 2, 3)\n",
        "print('T_reshape shape:', T_reshape.shape)\n",
        "\n",
        "T_permute = T.permute(2, 1, 0)\n",
        "print('T_permute shape:', T_permute.shape)"
      ],
      "id": "0644b861"
    },
    {
      "cell_type": "markdown",
      "source": [
        "**Provide Explanation for above question here :**\n",
        "In PyTorch, `torch.view` is faster than `torch.reshape` for large tensors because it operates in-place, modifying the shape of the original tensor without creating a copy. This makes `torch.view` more memory-efficient and faster, especially when dealing with substantial amounts of data.\n"
      ],
      "metadata": {
        "id": "Lb-861xsFXHN"
      },
      "id": "Lb-861xsFXHN"
    },
    {
      "cell_type": "markdown",
      "metadata": {
        "id": "1d5c7b62"
      },
      "source": [
        "# <font color = 'dodgerred'>**Q9: Tensor Concatenation and Stacking (1 Point)**\n",
        "\n",
        "Create tensors `C1` and `C2` both with shape (2, 3).\n",
        "1. Concatenate them along dimension 0 and then along dimension 1. Print the shape of the resulting tensor.\n",
        "2. Afterwards, stack the same tensors along dimension 0 and print the shape of the resulting tensor.\n",
        "3. What is the difference between stacking and concatinating."
      ],
      "id": "1d5c7b62"
    },
    {
      "cell_type": "code",
      "execution_count": 28,
      "metadata": {
        "id": "69e2f7e0",
        "colab": {
          "base_uri": "https://localhost:8080/",
          "height": 0
        },
        "outputId": "30cc2efe-4832-4457-92f2-e573f31555db"
      },
      "outputs": [
        {
          "output_type": "stream",
          "name": "stdout",
          "text": [
            "Concatenated along dimension 0: torch.Size([4, 3])\n",
            "Concatenated along dimension 1: torch.Size([2, 6])\n",
            "Stacked tensor shape: torch.Size([2, 2, 3])\n"
          ]
        }
      ],
      "source": [
        "C1 = torch.rand(2, 3)\n",
        "C2 = torch.rand(2, 3)\n",
        "concatenated_dim0 =  torch.cat((C1, C2), dim=0)\n",
        "print('Concatenated along dimension 0:', concatenated_dim0.shape)\n",
        "\n",
        "concatenated_dim1 =  torch.cat((C1, C2), dim=1)\n",
        "print('Concatenated along dimension 1:', concatenated_dim1.shape)\n",
        "\n",
        "stacked =  torch.stack((C1,C2), dim=0)\n",
        "print('Stacked tensor shape:', stacked.shape)"
      ],
      "id": "69e2f7e0"
    },
    {
      "cell_type": "markdown",
      "source": [
        "**Explain the diffrence between concatinating and stacking here:**\n",
        "The main difference between torch.cat and torch.stack lies in how they concatenate tensors:\n",
        "\n",
        "**torch.cat:**\n",
        "Concatenates tensors along an existing dimension.\n",
        "The dimension along which concatenation occurs must have the same size in all tensors.\n",
        "\n",
        "**torch.stack:**\n",
        "Stacks tensors along a new dimension.\n",
        "Introduces a new dimension and concatenates along that dimension. All tensors must have the same size along all existing dimensions.\n",
        "\n",
        "\n"
      ],
      "metadata": {
        "id": "kmKpP5xBCCgt"
      },
      "id": "kmKpP5xBCCgt"
    },
    {
      "cell_type": "markdown",
      "metadata": {
        "id": "0d0ed971"
      },
      "source": [
        "# <font color = 'dodgerred'>**Q10: Advanced Indexing and Slicing (1 Point)**\n",
        "\n",
        "1. Given a tensor `D` with shape (6, 6), extract elements that are greater than 0.5.\n",
        "2. Then, extract the second and fourth rows from `D`.\n",
        "3. Finally, extract a sub-tensor from the top-left 3x3 block."
      ],
      "id": "0d0ed971"
    },
    {
      "cell_type": "code",
      "execution_count": 29,
      "metadata": {
        "id": "df969523",
        "colab": {
          "base_uri": "https://localhost:8080/",
          "height": 0
        },
        "outputId": "bb8ccf45-6d2e-4ad5-9e1b-816a84615fd6"
      },
      "outputs": [
        {
          "output_type": "stream",
          "name": "stdout",
          "text": [
            "Elements greater than 0.5:\n",
            " tensor([0.6010, 0.5505, 0.8873, 0.5304, 0.8724, 0.7596, 0.7690, 0.6234, 0.5026,\n",
            "        0.8096, 0.6256, 0.9673, 0.7555, 0.5956, 0.5017, 0.5706, 0.6489, 0.6432,\n",
            "        0.8858])\n",
            "\n",
            "Second and fourth rows:\n",
            " tensor([[0.4315, 0.8724, 0.2084, 0.4635, 0.1819, 0.1901],\n",
            "        [0.0099, 0.6256, 0.9673, 0.7555, 0.1982, 0.5956]])\n",
            "\n",
            "Top-left 3x3 block:\n",
            "  tensor([[0.6010, 0.5505, 0.8873],\n",
            "        [0.4315, 0.8724, 0.2084],\n",
            "        [0.7596, 0.3431, 0.7690]])\n"
          ]
        }
      ],
      "source": [
        "D = torch.rand(6, 6)\n",
        "print('Elements greater than 0.5:\\n',  D[D>0.5])\n",
        "\n",
        "second_fourth_rows =  D[[1,3][:]]\n",
        "print('\\nSecond and fourth rows:\\n', second_fourth_rows)\n",
        "\n",
        "top_left_3x3 =  D[:3,:3]\n",
        "print('\\nTop-left 3x3 block:\\n ', top_left_3x3)"
      ],
      "id": "df969523"
    },
    {
      "cell_type": "markdown",
      "metadata": {
        "id": "c081cf3b"
      },
      "source": [
        "# <font color = 'dodgerred'>**Q11: Tensor Mathematical Operations (1 Point)**\n",
        "\n",
        "1. Create a tensor `G` with values from 0 to π in steps of π/4.\n",
        "2. Compute and print the sine, cosine, and tangent logarithm and the exponential of `G`."
      ],
      "id": "c081cf3b"
    },
    {
      "cell_type": "code",
      "source": [
        "import numpy as np"
      ],
      "metadata": {
        "id": "wLtKGgAp9lOF"
      },
      "id": "wLtKGgAp9lOF",
      "execution_count": 30,
      "outputs": []
    },
    {
      "cell_type": "code",
      "execution_count": 31,
      "metadata": {
        "id": "4c22b354",
        "colab": {
          "base_uri": "https://localhost:8080/",
          "height": 0
        },
        "outputId": "dd9da2aa-c87c-41a2-beca-1543c5a67f28"
      },
      "outputs": [
        {
          "output_type": "stream",
          "name": "stdout",
          "text": [
            "G: tensor([0.0000, 0.7854, 1.5708, 2.3562, 3.1416])\n",
            "Sine of G: tensor([ 0.0000e+00,  7.0711e-01,  1.0000e+00,  7.0711e-01, -8.7423e-08])\n",
            "Cosine of G: tensor([ 1.0000e+00,  7.0711e-01, -4.3711e-08, -7.0711e-01, -1.0000e+00])\n",
            "Tangent of G: tensor([ 0.0000e+00,  1.0000e+00, -2.2877e+07, -1.0000e+00,  8.7423e-08])\n",
            "Natural logarithm of G: tensor([   -inf, -0.2416,  0.4516,  0.8570,  1.1447])\n",
            "Exponential of G: tensor([ 1.0000,  2.1933,  4.8105, 10.5507, 23.1407])\n"
          ]
        }
      ],
      "source": [
        "G = torch.linspace(0, np.pi, steps=5)\n",
        "print('G:', G)\n",
        "print('Sine of G:',  torch.sin(G))\n",
        "print('Cosine of G:',  torch.cos(G))\n",
        "print('Tangent of G:',  torch.tan(G))\n",
        "print('Natural logarithm of G:',  torch.log(G))\n",
        "print('Exponential of G:',  torch.exp(G))"
      ],
      "id": "4c22b354"
    },
    {
      "cell_type": "markdown",
      "metadata": {
        "id": "629eb94b"
      },
      "source": [
        "# <font color = 'dodgerred'>Q12: **Tensor Reduction Operations (1 Point)**\n",
        "\n",
        "1. Create a 3x2 tensor `H`.\n",
        "2. Compute the sum of `H`. Print the result and shape after taking sun.\n",
        "3. Then, perform the same operations along dimension 0 and dimension 1, printing the results and shapes.\n",
        "4. What do you observe? How the shape changes?"
      ],
      "id": "629eb94b"
    },
    {
      "cell_type": "code",
      "execution_count": 32,
      "metadata": {
        "id": "729d7275",
        "colab": {
          "base_uri": "https://localhost:8080/",
          "height": 0
        },
        "outputId": "3c0e136f-54e8-4f05-f180-bb971b20bc79"
      },
      "outputs": [
        {
          "output_type": "stream",
          "name": "stdout",
          "text": [
            "H: tensor([[0.6582, 0.3452],\n",
            "        [0.3311, 0.3333],\n",
            "        [0.3929, 0.2525]])\n",
            "\n",
            "Shape of original Tensor H torch.Size([3, 2])\n",
            "\n",
            "Sum of H: tensor(2.3133)\n",
            "Shape after Sum of H: torch.Size([])\n",
            "\n",
            "Sum of H along dimension 0: tensor([1.3823, 0.9310])\n",
            "Shape after sum of H along dimension 0: torch.Size([2])\n",
            "\n",
            "Sum of H along dimension 1: tensor([1.0034, 0.6644, 0.6454])\n",
            "Shape after sum of H along dimension 1: torch.Size([3])\n"
          ]
        }
      ],
      "source": [
        "H = torch.rand(3, 2)\n",
        "print('H:', H, end = \"\\n\\n\")\n",
        "print('Shape of original Tensor H', H.shape, end = \"\\n\\n\")\n",
        "\n",
        "print('Sum of H:',  H.sum())\n",
        "print('Shape after Sum of H:',  H.sum().shape,  end = \"\\n\\n\")\n",
        "\n",
        "print('Sum of H along dimension 0:',  H.sum(axis=0))\n",
        "print('Shape after sum of H along dimension 0:',  H.sum(axis=0).shape,  end = \"\\n\\n\")\n",
        "\n",
        "print('Sum of H along dimension 1:', H.sum(axis=1))\n",
        "print('Shape after sum of H along dimension 1:',  H.sum(axis=1).shape)"
      ],
      "id": "729d7275"
    },
    {
      "cell_type": "markdown",
      "source": [
        "**Provide your observations on shape changes here**\n",
        "\n",
        "Observations:\n",
        "- H.sum(): Summing all elements in tensor H yields a scalar value.\n",
        "- H.sum(axis=0): Summing along dimension 0 collapses rows, resulting in a tensor with shape (2,), representing column sums.\n",
        "- H.sum(axis=1): Summing along dimension 1 collapses columns, resulting in a tensor with shape (3,), representing row sums.\n",
        "\n"
      ],
      "metadata": {
        "id": "hfmDz2OLb8M2"
      },
      "id": "hfmDz2OLb8M2"
    },
    {
      "cell_type": "markdown",
      "metadata": {
        "id": "4a156a3a"
      },
      "source": [
        "# <font color = 'dodgerred'>**Q13: Working with Tensor Data Types (1 Point)**\n",
        "\n",
        "1. Create a tensor `I` of data type float with values `[1.0, 2.0, 3.0]`.\n",
        "2. Convert `I` to data type int and print the result.\n",
        "3. Explain in which scenarios it's necessary to be cautious about the data type of tensors."
      ],
      "id": "4a156a3a"
    },
    {
      "cell_type": "code",
      "execution_count": 33,
      "metadata": {
        "colab": {
          "base_uri": "https://localhost:8080/",
          "height": 0
        },
        "id": "af427555",
        "outputId": "2c329744-9233-430a-b261-c5322d703d75"
      },
      "outputs": [
        {
          "output_type": "stream",
          "name": "stdout",
          "text": [
            "I: tensor([1., 2., 3.])\n",
            "I converted to int: tensor([1, 2, 3], dtype=torch.int32)\n"
          ]
        }
      ],
      "source": [
        "# Solution for Q16\n",
        "I =  torch.tensor([1., 2., 3.])\n",
        "print('I:', I)\n",
        "I_int =  I.int()\n",
        "print('I converted to int:', I_int)"
      ],
      "id": "af427555"
    },
    {
      "cell_type": "markdown",
      "source": [
        "**Your explanations here**\n",
        "\n",
        "Caution about data types is crucial in scenarios where:\n",
        "\n",
        "1. Precision matters: Using inadequate data types may lead to loss of information and inaccuracies in calculations involving decimals.\n",
        "2. Compatibility with operations: Certain computations require specific data types for proper functionality. Using incompatible types can cause errors or unexpected outcomes.\n",
        "3. Memory efficiency: Choosing suitable data types affects memory usage and computational efficiency. Using overly large types can result in excessive memory consumption and slower computations."
      ],
      "metadata": {
        "id": "9yyx5WtweGNP"
      },
      "id": "9yyx5WtweGNP"
    },
    {
      "cell_type": "markdown",
      "metadata": {
        "id": "2TU6l0nC3EfW"
      },
      "source": [
        "# <font color = 'dodgerred'>**Q14. Speedtest for vectorization 1.5 Points** </font>\n",
        "\n",
        "Your goal is to measure the speed of linear algebra operations for different levels of vectorization.\n",
        "\n",
        "1. Construct two matrices $A$ and $B$ with Gaussian random entries of size $1024 \\times 1024$.\n",
        "1. Compute $C = A B$ using matrix-matrix operations and report the time. (Hint: Use torch.mm)\n",
        "1. Compute $C = A B$, treating $A$ as a matrix but computing the result for each column of $B$ one at a time. Report the time. (hint use torch.mv inside a for loop)\n",
        "1. Compute $C = A B$, treating $A$ and $B$ as collections of vectors. Report the time. (Hint: use torch.dot inside nested for loop)"
      ],
      "id": "2TU6l0nC3EfW"
    },
    {
      "cell_type": "code",
      "execution_count": 47,
      "metadata": {
        "id": "wkKjtX0HH2wz"
      },
      "outputs": [],
      "source": [
        "## Solution 1\n",
        "torch.manual_seed(42) # dod not chnage this\n",
        "A = torch.randn(1024, 1024)\n",
        "B = torch.randn(1024, 1024)"
      ],
      "id": "wkKjtX0HH2wz"
    },
    {
      "cell_type": "code",
      "execution_count": 48,
      "metadata": {
        "id": "kSMH_j5OD2ZB",
        "colab": {
          "base_uri": "https://localhost:8080/",
          "height": 0
        },
        "outputId": "850e0ba4-2a12-42cd-9d57-1b182a472767"
      },
      "outputs": [
        {
          "output_type": "stream",
          "name": "stdout",
          "text": [
            "Matrix by matrix: 0.033551931381225586 seconds\n"
          ]
        }
      ],
      "source": [
        "## Solution 2\n",
        "start=time.time()\n",
        "\n",
        "C = torch.mm(A,B)\n",
        "\n",
        "print(\"Matrix by matrix: \" + str(time.time()-start) + \" seconds\")"
      ],
      "id": "kSMH_j5OD2ZB"
    },
    {
      "cell_type": "code",
      "execution_count": 49,
      "metadata": {
        "id": "-tU8yGBP-Crk",
        "colab": {
          "base_uri": "https://localhost:8080/",
          "height": 0
        },
        "outputId": "f8a49931-7dd4-4274-817b-72905fc38fee"
      },
      "outputs": [
        {
          "output_type": "stream",
          "name": "stdout",
          "text": [
            "Matrix by vector: 0.27141404151916504 seconds\n"
          ]
        }
      ],
      "source": [
        "## Solution 3\n",
        "C = torch.empty(1024,1024)\n",
        "start = time.time()\n",
        "\n",
        "for i in range(B.shape[-1]):\n",
        "  C[:,i] = torch.mv(A, B[:,i])\n",
        "\n",
        "print(\"Matrix by vector: \" + str(time.time()-start) + \" seconds\")"
      ],
      "id": "-tU8yGBP-Crk"
    },
    {
      "cell_type": "code",
      "source": [
        "B.shape[-1]"
      ],
      "metadata": {
        "colab": {
          "base_uri": "https://localhost:8080/",
          "height": 0
        },
        "id": "-dLDEcCcIRfu",
        "outputId": "90e396a2-7c57-40b6-92b1-b264c2534d2c"
      },
      "id": "-dLDEcCcIRfu",
      "execution_count": 50,
      "outputs": [
        {
          "output_type": "execute_result",
          "data": {
            "text/plain": [
              "1024"
            ]
          },
          "metadata": {},
          "execution_count": 50
        }
      ]
    },
    {
      "cell_type": "code",
      "execution_count": 51,
      "metadata": {
        "id": "MFgJCFf6DUFK",
        "colab": {
          "base_uri": "https://localhost:8080/",
          "height": 0
        },
        "outputId": "b083b769-fe39-4875-9b23-005c066105ba"
      },
      "outputs": [
        {
          "output_type": "stream",
          "name": "stdout",
          "text": [
            "vector by vector: 29.248013973236084 seconds\n"
          ]
        }
      ],
      "source": [
        "## Solution 4\n",
        "C = torch.empty(1024,1024)\n",
        "start = time.time()\n",
        "\n",
        "for i in range(A.shape[0]):\n",
        "  for j in range(B.shape[-1]):\n",
        "    C[i,j] = torch.dot(A[i,:], B[:,j])\n",
        "\n",
        "print(\"vector by vector: \" + str(time.time()-start) + \" seconds\")"
      ],
      "id": "MFgJCFf6DUFK"
    },
    {
      "cell_type": "code",
      "source": [
        "C.shape"
      ],
      "metadata": {
        "colab": {
          "base_uri": "https://localhost:8080/",
          "height": 0
        },
        "id": "JqIM9CV6I3B8",
        "outputId": "cff44483-8eb4-4a12-b725-0b3fb6ad2385"
      },
      "id": "JqIM9CV6I3B8",
      "execution_count": 52,
      "outputs": [
        {
          "output_type": "execute_result",
          "data": {
            "text/plain": [
              "torch.Size([1024, 1024])"
            ]
          },
          "metadata": {},
          "execution_count": 52
        }
      ]
    },
    {
      "cell_type": "markdown",
      "metadata": {
        "id": "TtYsJM4mJNdE"
      },
      "source": [
        "# <font color = 'dodgerred'>**Q15 : Redo Question 14 by using GPU - 1.5 Points**"
      ],
      "id": "TtYsJM4mJNdE"
    },
    {
      "cell_type": "markdown",
      "metadata": {
        "id": "fxJ1UlTf3Efb"
      },
      "source": [
        "<font size = 4, color = 'dodgerred'> **Using GPUs**\n",
        "\n",
        "How to use GPUs in Google Colab<br>\n",
        "In Google Colab -- Go to Runtime Tab at top -- select change runtime type -- for hardware accelartor choose GPU"
      ],
      "id": "fxJ1UlTf3Efb"
    },
    {
      "cell_type": "code",
      "execution_count": 54,
      "metadata": {
        "id": "_6ilpofMIe1e",
        "colab": {
          "base_uri": "https://localhost:8080/",
          "height": 0
        },
        "outputId": "8b3b509d-230e-4ce8-cdbb-d9cf11c9b119"
      },
      "outputs": [
        {
          "output_type": "stream",
          "name": "stdout",
          "text": [
            "cuda:0\n"
          ]
        }
      ],
      "source": [
        "# Check if GPU is availaible\n",
        "device = torch.device('cuda:0' if torch.cuda.is_available() else 'cpu')\n",
        "print(device)"
      ],
      "id": "_6ilpofMIe1e"
    },
    {
      "cell_type": "code",
      "execution_count": 55,
      "metadata": {
        "id": "4XMhjifbJcu0"
      },
      "outputs": [],
      "source": [
        "## Solution 1\n",
        "torch.manual_seed(42)\n",
        "A = torch.randn((1024, 1024), device=device)\n",
        "B = torch.randn((1024, 1024), device=device)"
      ],
      "id": "4XMhjifbJcu0"
    },
    {
      "cell_type": "code",
      "execution_count": 56,
      "metadata": {
        "id": "pn-ZKI7sK9Oh",
        "colab": {
          "base_uri": "https://localhost:8080/",
          "height": 0
        },
        "outputId": "3a75f751-9485-4578-824e-0ec4c0a1c43f"
      },
      "outputs": [
        {
          "output_type": "stream",
          "name": "stdout",
          "text": [
            "Matrix by matrix: 0.0008223056793212891 seconds\n"
          ]
        }
      ],
      "source": [
        "## Solution 2\n",
        "start = time.time()\n",
        "\n",
        "C = torch.mm(A,B)\n",
        "\n",
        "print(\"Matrix by matrix: \" + str(time.time()-start) + \" seconds\")"
      ],
      "id": "pn-ZKI7sK9Oh"
    },
    {
      "cell_type": "code",
      "execution_count": 57,
      "metadata": {
        "id": "GcHPGEitLL8i",
        "colab": {
          "base_uri": "https://localhost:8080/",
          "height": 0
        },
        "outputId": "eec54bed-c166-4d5f-ec0d-2d29293c52cc"
      },
      "outputs": [
        {
          "output_type": "stream",
          "name": "stdout",
          "text": [
            "Matrix by vector: 0.05939173698425293 seconds\n"
          ]
        }
      ],
      "source": [
        "## Solution 3\n",
        "C = torch.empty(1024, 1024, device=device)\n",
        "start = time.time()\n",
        "\n",
        "for i in range(B.shape[-1]):\n",
        "  C[:,i] = torch.mv(A, B[:,i])\n",
        "\n",
        "print(\"Matrix by vector: \" + str(time.time()-start) + \" seconds\")"
      ],
      "id": "GcHPGEitLL8i"
    },
    {
      "cell_type": "code",
      "execution_count": 58,
      "metadata": {
        "id": "wZ5LWSa2Lrdw",
        "colab": {
          "base_uri": "https://localhost:8080/",
          "height": 0
        },
        "outputId": "41cbfe04-fbe4-41c7-9e73-d13977ddc6e7"
      },
      "outputs": [
        {
          "output_type": "stream",
          "name": "stdout",
          "text": [
            "vector by vector: 45.12138652801514 seconds\n"
          ]
        }
      ],
      "source": [
        "## Solution 4\n",
        "C = torch.empty(1024, 1024, device=device)\n",
        "start = time.time()\n",
        "\n",
        "for i in range(A.shape[0]):\n",
        "  for j in range(B.shape[-1]):\n",
        "    C[i,j] = torch.dot(A[i,:], B[:,j])\n",
        "\n",
        "print(\"vector by vector: \" + str(time.time()-start) + \" seconds\")"
      ],
      "id": "wZ5LWSa2Lrdw"
    },
    {
      "cell_type": "markdown",
      "source": [
        "**My idea:** The function might be experiencing longer execution times on the GPU because the operation being performed is relatively simple. GPUs typically excel in accelerating more complex computations, and for simpler operations, the overhead of data transfer between CPU and GPU might outweigh the potential speedup."
      ],
      "metadata": {
        "id": "KAG-_yU4TKYD"
      },
      "id": "KAG-_yU4TKYD"
    },
    {
      "cell_type": "code",
      "source": [],
      "metadata": {
        "id": "fTnh1KvPOmT8"
      },
      "id": "fTnh1KvPOmT8",
      "execution_count": 44,
      "outputs": []
    }
  ],
  "metadata": {
    "accelerator": "GPU",
    "colab": {
      "provenance": [],
      "machine_shape": "hm",
      "gpuType": "T4"
    },
    "kernelspec": {
      "display_name": "Python 3",
      "name": "python3"
    },
    "language_info": {
      "codemirror_mode": {
        "name": "ipython",
        "version": 3
      },
      "file_extension": ".py",
      "mimetype": "text/x-python",
      "name": "python",
      "nbconvert_exporter": "python",
      "pygments_lexer": "ipython3",
      "version": "3.9.13"
    }
  },
  "nbformat": 4,
  "nbformat_minor": 5
}