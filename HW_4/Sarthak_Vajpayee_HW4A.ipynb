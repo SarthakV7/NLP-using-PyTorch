{
 "cells": [
  {
   "cell_type": "code",
   "execution_count": 1,
   "metadata": {
    "colab": {
     "base_uri": "https://localhost:8080/"
    },
    "id": "Vs3Ovtk_YFmX",
    "outputId": "db37d509-b877-4d72-abd2-c986f3ae214e"
   },
   "outputs": [
    {
     "name": "stdout",
     "output_type": "stream",
     "text": [
      "Requirement already satisfied: torchinfo in /usr/local/lib/python3.10/dist-packages (1.8.0)\n",
      "Requirement already satisfied: torchmetrics in /usr/local/lib/python3.10/dist-packages (1.3.1)\n",
      "Requirement already satisfied: numpy>1.20.0 in /usr/local/lib/python3.10/dist-packages (from torchmetrics) (1.25.2)\n",
      "Requirement already satisfied: packaging>17.1 in /usr/local/lib/python3.10/dist-packages (from torchmetrics) (23.2)\n",
      "Requirement already satisfied: torch>=1.10.0 in /usr/local/lib/python3.10/dist-packages (from torchmetrics) (2.1.0+cu121)\n",
      "Requirement already satisfied: lightning-utilities>=0.8.0 in /usr/local/lib/python3.10/dist-packages (from torchmetrics) (0.10.1)\n",
      "Requirement already satisfied: setuptools in /usr/local/lib/python3.10/dist-packages (from lightning-utilities>=0.8.0->torchmetrics) (67.7.2)\n",
      "Requirement already satisfied: typing-extensions in /usr/local/lib/python3.10/dist-packages (from lightning-utilities>=0.8.0->torchmetrics) (4.10.0)\n",
      "Requirement already satisfied: filelock in /usr/local/lib/python3.10/dist-packages (from torch>=1.10.0->torchmetrics) (3.13.1)\n",
      "Requirement already satisfied: sympy in /usr/local/lib/python3.10/dist-packages (from torch>=1.10.0->torchmetrics) (1.12)\n",
      "Requirement already satisfied: networkx in /usr/local/lib/python3.10/dist-packages (from torch>=1.10.0->torchmetrics) (3.2.1)\n",
      "Requirement already satisfied: jinja2 in /usr/local/lib/python3.10/dist-packages (from torch>=1.10.0->torchmetrics) (3.1.3)\n",
      "Requirement already satisfied: fsspec in /usr/local/lib/python3.10/dist-packages (from torch>=1.10.0->torchmetrics) (2023.6.0)\n",
      "Requirement already satisfied: triton==2.1.0 in /usr/local/lib/python3.10/dist-packages (from torch>=1.10.0->torchmetrics) (2.1.0)\n",
      "Requirement already satisfied: MarkupSafe>=2.0 in /usr/local/lib/python3.10/dist-packages (from jinja2->torch>=1.10.0->torchmetrics) (2.1.5)\n",
      "Requirement already satisfied: mpmath>=0.19 in /usr/local/lib/python3.10/dist-packages (from sympy->torch>=1.10.0->torchmetrics) (1.3.0)\n"
     ]
    }
   ],
   "source": [
    "!pip install torchinfo\n",
    "!pip install torchmetrics"
   ]
  },
  {
   "cell_type": "code",
   "execution_count": 2,
   "metadata": {
    "id": "m7q_1ZE8u7pQ"
   },
   "outputs": [],
   "source": [
    "import pandas as pd\n",
    "import joblib\n",
    "from functools import partial\n",
    "import ast\n",
    "from sklearn.preprocessing import MultiLabelBinarizer\n",
    "from sklearn.model_selection import train_test_split\n",
    "from collections import Counter\n",
    "from torchtext.vocab import vocab\n",
    "import torch\n",
    "from torchinfo import summary\n",
    "from torchmetrics import HammingDistance"
   ]
  },
  {
   "cell_type": "code",
   "execution_count": 3,
   "metadata": {
    "colab": {
     "base_uri": "https://localhost:8080/",
     "height": 206
    },
    "id": "mxkyxB8CKIxl",
    "outputId": "b130d614-6a0e-43be-c808-01ff23bd9563"
   },
   "outputs": [
    {
     "data": {
      "application/vnd.google.colaboratory.intrinsic+json": {
       "summary": "{\n  \"name\": \"df\",\n  \"rows\": 47427,\n  \"fields\": [\n    {\n      \"column\": \"cleaned_text\",\n      \"properties\": {\n        \"dtype\": \"string\",\n        \"num_unique_values\": 36481,\n        \"samples\": [\n          \"fadein invisible list item jquery unordered list lis invisible display begin want specific li visible js function try $ list li nth child(1)\\\").fadein work ul visible begin code > li      display   < ul class=\\\"hide id=\\\"my list >      < li>1</li >      < li>2</li >      < li>3</li > < /ul >   try answer question feel free stab\",\n          \"deploy project server create website excel file mail d information mail d fetch excel file excel file send mail automatically mail d design subject cc bcc content create project export excel file fetch mail d ms access database send email automatically design deploy project ftp.i know create help regard padmapriya s  \",\n          \"custom keypad button functional app finish scoreboard app   user longclick score currently dialog box appear show edittext field ok cancel button   user click edittext field keypad appear number user type new score click edittext field show new value dialog box user click ok save enter value textview show current score problem feel cumbersome   like happen   user longclick score keypad appear user enter new score user click ok keypad disappear value save textview update current score   order accomplish think thing   create new class extend view new android understand option replace edittext dialog new xml file design like keypad   option 2   figure probably easy design xml layout call   user longclick file inflate dialog ok cancel   far good   know code button action thought figure setup onclick listener button layout   figure button go perform exact function   basically text button case 0 9 append textview keypad   user click ok save textview current score textview help point right direction accomplish screenshot textview number   xml code < xml version=\\\"1.0 encoding=\\\"utf-8 > < gridlayout xmlns apk res android android layout_width=\\\"wrap_content android layout_height=\\\"wrap_content android layout_gravity=\\\"fill android columncount=\\\"3 >   < textview      android id=\\\"@+id textview1      android layout_columnspan=\\\"3      android layout_gravity=\\\"fill      android gravity=\\\"right|center_vertical      android textsize=\\\"24sp >   < button android text=\\\"1 >   < button android text=\\\"2 >   < button android text=\\\"3 > < button android text=\\\"4 > < button android text=\\\"5 > < button android text=\\\"6 > < button android text=\\\"7 > < button android text=\\\"8 > < button android text=\\\"9 >   < button      android layout_columnspan=\\\"3      android layout_gravity=\\\"fill      android gravity=\\\"center      android text=\\\"0 >   \"\n        ],\n        \"semantic_type\": \"\",\n        \"description\": \"\"\n      }\n    },\n    {\n      \"column\": \"Tags\",\n      \"properties\": {\n        \"dtype\": \"category\",\n        \"num_unique_values\": 176,\n        \"samples\": [\n          \"javascript asp.net\",\n          \"c# asp.net jquery\",\n          \"c# java python\"\n        ],\n        \"semantic_type\": \"\",\n        \"description\": \"\"\n      }\n    },\n    {\n      \"column\": \"Tag_Number\",\n      \"properties\": {\n        \"dtype\": \"category\",\n        \"num_unique_values\": 176,\n        \"samples\": [\n          \"[3, 9]\",\n          \"[0, 9, 5]\",\n          \"[0, 1, 7]\"\n        ],\n        \"semantic_type\": \"\",\n        \"description\": \"\"\n      }\n    }\n  ]\n}",
       "type": "dataframe",
       "variable_name": "df"
      },
      "text/html": [
       "\n",
       "  <div id=\"df-dfd4e16a-d68b-4121-b648-aee36cb728bb\" class=\"colab-df-container\">\n",
       "    <div>\n",
       "<style scoped>\n",
       "    .dataframe tbody tr th:only-of-type {\n",
       "        vertical-align: middle;\n",
       "    }\n",
       "\n",
       "    .dataframe tbody tr th {\n",
       "        vertical-align: top;\n",
       "    }\n",
       "\n",
       "    .dataframe thead th {\n",
       "        text-align: right;\n",
       "    }\n",
       "</style>\n",
       "<table border=\"1\" class=\"dataframe\">\n",
       "  <thead>\n",
       "    <tr style=\"text-align: right;\">\n",
       "      <th></th>\n",
       "      <th>cleaned_text</th>\n",
       "      <th>Tags</th>\n",
       "      <th>Tag_Number</th>\n",
       "    </tr>\n",
       "  </thead>\n",
       "  <tbody>\n",
       "    <tr>\n",
       "      <th>0</th>\n",
       "      <td>asp query stre dropdown webpage follow control...</td>\n",
       "      <td>c# asp.net</td>\n",
       "      <td>[0, 9]</td>\n",
       "    </tr>\n",
       "    <tr>\n",
       "      <th>1</th>\n",
       "      <td>run javascript code server java code want run ...</td>\n",
       "      <td>java javascript</td>\n",
       "      <td>[1, 3]</td>\n",
       "    </tr>\n",
       "    <tr>\n",
       "      <th>2</th>\n",
       "      <td>linq sql throw exception row find change hi li...</td>\n",
       "      <td>c# asp.net</td>\n",
       "      <td>[0, 9]</td>\n",
       "    </tr>\n",
       "    <tr>\n",
       "      <th>3</th>\n",
       "      <td>run python script php server run nginx web ser...</td>\n",
       "      <td>php python</td>\n",
       "      <td>[2, 7]</td>\n",
       "    </tr>\n",
       "    <tr>\n",
       "      <th>4</th>\n",
       "      <td>advice write function m try write function res...</td>\n",
       "      <td>javascript jquery</td>\n",
       "      <td>[3, 5]</td>\n",
       "    </tr>\n",
       "  </tbody>\n",
       "</table>\n",
       "</div>\n",
       "    <div class=\"colab-df-buttons\">\n",
       "\n",
       "  <div class=\"colab-df-container\">\n",
       "    <button class=\"colab-df-convert\" onclick=\"convertToInteractive('df-dfd4e16a-d68b-4121-b648-aee36cb728bb')\"\n",
       "            title=\"Convert this dataframe to an interactive table.\"\n",
       "            style=\"display:none;\">\n",
       "\n",
       "  <svg xmlns=\"http://www.w3.org/2000/svg\" height=\"24px\" viewBox=\"0 -960 960 960\">\n",
       "    <path d=\"M120-120v-720h720v720H120Zm60-500h600v-160H180v160Zm220 220h160v-160H400v160Zm0 220h160v-160H400v160ZM180-400h160v-160H180v160Zm440 0h160v-160H620v160ZM180-180h160v-160H180v160Zm440 0h160v-160H620v160Z\"/>\n",
       "  </svg>\n",
       "    </button>\n",
       "\n",
       "  <style>\n",
       "    .colab-df-container {\n",
       "      display:flex;\n",
       "      gap: 12px;\n",
       "    }\n",
       "\n",
       "    .colab-df-convert {\n",
       "      background-color: #E8F0FE;\n",
       "      border: none;\n",
       "      border-radius: 50%;\n",
       "      cursor: pointer;\n",
       "      display: none;\n",
       "      fill: #1967D2;\n",
       "      height: 32px;\n",
       "      padding: 0 0 0 0;\n",
       "      width: 32px;\n",
       "    }\n",
       "\n",
       "    .colab-df-convert:hover {\n",
       "      background-color: #E2EBFA;\n",
       "      box-shadow: 0px 1px 2px rgba(60, 64, 67, 0.3), 0px 1px 3px 1px rgba(60, 64, 67, 0.15);\n",
       "      fill: #174EA6;\n",
       "    }\n",
       "\n",
       "    .colab-df-buttons div {\n",
       "      margin-bottom: 4px;\n",
       "    }\n",
       "\n",
       "    [theme=dark] .colab-df-convert {\n",
       "      background-color: #3B4455;\n",
       "      fill: #D2E3FC;\n",
       "    }\n",
       "\n",
       "    [theme=dark] .colab-df-convert:hover {\n",
       "      background-color: #434B5C;\n",
       "      box-shadow: 0px 1px 3px 1px rgba(0, 0, 0, 0.15);\n",
       "      filter: drop-shadow(0px 1px 2px rgba(0, 0, 0, 0.3));\n",
       "      fill: #FFFFFF;\n",
       "    }\n",
       "  </style>\n",
       "\n",
       "    <script>\n",
       "      const buttonEl =\n",
       "        document.querySelector('#df-dfd4e16a-d68b-4121-b648-aee36cb728bb button.colab-df-convert');\n",
       "      buttonEl.style.display =\n",
       "        google.colab.kernel.accessAllowed ? 'block' : 'none';\n",
       "\n",
       "      async function convertToInteractive(key) {\n",
       "        const element = document.querySelector('#df-dfd4e16a-d68b-4121-b648-aee36cb728bb');\n",
       "        const dataTable =\n",
       "          await google.colab.kernel.invokeFunction('convertToInteractive',\n",
       "                                                    [key], {});\n",
       "        if (!dataTable) return;\n",
       "\n",
       "        const docLinkHtml = 'Like what you see? Visit the ' +\n",
       "          '<a target=\"_blank\" href=https://colab.research.google.com/notebooks/data_table.ipynb>data table notebook</a>'\n",
       "          + ' to learn more about interactive tables.';\n",
       "        element.innerHTML = '';\n",
       "        dataTable['output_type'] = 'display_data';\n",
       "        await google.colab.output.renderOutput(dataTable, element);\n",
       "        const docLink = document.createElement('div');\n",
       "        docLink.innerHTML = docLinkHtml;\n",
       "        element.appendChild(docLink);\n",
       "      }\n",
       "    </script>\n",
       "  </div>\n",
       "\n",
       "\n",
       "<div id=\"df-be433057-6dfc-43e2-8737-58f1a2ae0ca2\">\n",
       "  <button class=\"colab-df-quickchart\" onclick=\"quickchart('df-be433057-6dfc-43e2-8737-58f1a2ae0ca2')\"\n",
       "            title=\"Suggest charts\"\n",
       "            style=\"display:none;\">\n",
       "\n",
       "<svg xmlns=\"http://www.w3.org/2000/svg\" height=\"24px\"viewBox=\"0 0 24 24\"\n",
       "     width=\"24px\">\n",
       "    <g>\n",
       "        <path d=\"M19 3H5c-1.1 0-2 .9-2 2v14c0 1.1.9 2 2 2h14c1.1 0 2-.9 2-2V5c0-1.1-.9-2-2-2zM9 17H7v-7h2v7zm4 0h-2V7h2v10zm4 0h-2v-4h2v4z\"/>\n",
       "    </g>\n",
       "</svg>\n",
       "  </button>\n",
       "\n",
       "<style>\n",
       "  .colab-df-quickchart {\n",
       "      --bg-color: #E8F0FE;\n",
       "      --fill-color: #1967D2;\n",
       "      --hover-bg-color: #E2EBFA;\n",
       "      --hover-fill-color: #174EA6;\n",
       "      --disabled-fill-color: #AAA;\n",
       "      --disabled-bg-color: #DDD;\n",
       "  }\n",
       "\n",
       "  [theme=dark] .colab-df-quickchart {\n",
       "      --bg-color: #3B4455;\n",
       "      --fill-color: #D2E3FC;\n",
       "      --hover-bg-color: #434B5C;\n",
       "      --hover-fill-color: #FFFFFF;\n",
       "      --disabled-bg-color: #3B4455;\n",
       "      --disabled-fill-color: #666;\n",
       "  }\n",
       "\n",
       "  .colab-df-quickchart {\n",
       "    background-color: var(--bg-color);\n",
       "    border: none;\n",
       "    border-radius: 50%;\n",
       "    cursor: pointer;\n",
       "    display: none;\n",
       "    fill: var(--fill-color);\n",
       "    height: 32px;\n",
       "    padding: 0;\n",
       "    width: 32px;\n",
       "  }\n",
       "\n",
       "  .colab-df-quickchart:hover {\n",
       "    background-color: var(--hover-bg-color);\n",
       "    box-shadow: 0 1px 2px rgba(60, 64, 67, 0.3), 0 1px 3px 1px rgba(60, 64, 67, 0.15);\n",
       "    fill: var(--button-hover-fill-color);\n",
       "  }\n",
       "\n",
       "  .colab-df-quickchart-complete:disabled,\n",
       "  .colab-df-quickchart-complete:disabled:hover {\n",
       "    background-color: var(--disabled-bg-color);\n",
       "    fill: var(--disabled-fill-color);\n",
       "    box-shadow: none;\n",
       "  }\n",
       "\n",
       "  .colab-df-spinner {\n",
       "    border: 2px solid var(--fill-color);\n",
       "    border-color: transparent;\n",
       "    border-bottom-color: var(--fill-color);\n",
       "    animation:\n",
       "      spin 1s steps(1) infinite;\n",
       "  }\n",
       "\n",
       "  @keyframes spin {\n",
       "    0% {\n",
       "      border-color: transparent;\n",
       "      border-bottom-color: var(--fill-color);\n",
       "      border-left-color: var(--fill-color);\n",
       "    }\n",
       "    20% {\n",
       "      border-color: transparent;\n",
       "      border-left-color: var(--fill-color);\n",
       "      border-top-color: var(--fill-color);\n",
       "    }\n",
       "    30% {\n",
       "      border-color: transparent;\n",
       "      border-left-color: var(--fill-color);\n",
       "      border-top-color: var(--fill-color);\n",
       "      border-right-color: var(--fill-color);\n",
       "    }\n",
       "    40% {\n",
       "      border-color: transparent;\n",
       "      border-right-color: var(--fill-color);\n",
       "      border-top-color: var(--fill-color);\n",
       "    }\n",
       "    60% {\n",
       "      border-color: transparent;\n",
       "      border-right-color: var(--fill-color);\n",
       "    }\n",
       "    80% {\n",
       "      border-color: transparent;\n",
       "      border-right-color: var(--fill-color);\n",
       "      border-bottom-color: var(--fill-color);\n",
       "    }\n",
       "    90% {\n",
       "      border-color: transparent;\n",
       "      border-bottom-color: var(--fill-color);\n",
       "    }\n",
       "  }\n",
       "</style>\n",
       "\n",
       "  <script>\n",
       "    async function quickchart(key) {\n",
       "      const quickchartButtonEl =\n",
       "        document.querySelector('#' + key + ' button');\n",
       "      quickchartButtonEl.disabled = true;  // To prevent multiple clicks.\n",
       "      quickchartButtonEl.classList.add('colab-df-spinner');\n",
       "      try {\n",
       "        const charts = await google.colab.kernel.invokeFunction(\n",
       "            'suggestCharts', [key], {});\n",
       "      } catch (error) {\n",
       "        console.error('Error during call to suggestCharts:', error);\n",
       "      }\n",
       "      quickchartButtonEl.classList.remove('colab-df-spinner');\n",
       "      quickchartButtonEl.classList.add('colab-df-quickchart-complete');\n",
       "    }\n",
       "    (() => {\n",
       "      let quickchartButtonEl =\n",
       "        document.querySelector('#df-be433057-6dfc-43e2-8737-58f1a2ae0ca2 button');\n",
       "      quickchartButtonEl.style.display =\n",
       "        google.colab.kernel.accessAllowed ? 'block' : 'none';\n",
       "    })();\n",
       "  </script>\n",
       "</div>\n",
       "\n",
       "    </div>\n",
       "  </div>\n"
      ],
      "text/plain": [
       "                                        cleaned_text               Tags  \\\n",
       "0  asp query stre dropdown webpage follow control...         c# asp.net   \n",
       "1  run javascript code server java code want run ...    java javascript   \n",
       "2  linq sql throw exception row find change hi li...         c# asp.net   \n",
       "3  run python script php server run nginx web ser...         php python   \n",
       "4  advice write function m try write function res...  javascript jquery   \n",
       "\n",
       "  Tag_Number  \n",
       "0     [0, 9]  \n",
       "1     [1, 3]  \n",
       "2     [0, 9]  \n",
       "3     [2, 7]  \n",
       "4     [3, 5]  "
      ]
     },
     "execution_count": 3,
     "metadata": {},
     "output_type": "execute_result"
    }
   ],
   "source": [
    "df = joblib.load('/content/drive/MyDrive/df_multilabel_hw_cleaned.joblib')\n",
    "df.head()"
   ]
  },
  {
   "cell_type": "code",
   "execution_count": 4,
   "metadata": {
    "colab": {
     "base_uri": "https://localhost:8080/",
     "height": 206
    },
    "id": "43ySFO9oLXhL",
    "outputId": "9c95d7fa-d35b-40c0-d6e0-339d7c5bd476"
   },
   "outputs": [
    {
     "data": {
      "application/vnd.google.colaboratory.intrinsic+json": {
       "summary": "{\n  \"name\": \"df\",\n  \"rows\": 47427,\n  \"fields\": [\n    {\n      \"column\": \"cleaned_text\",\n      \"properties\": {\n        \"dtype\": \"string\",\n        \"num_unique_values\": 36481,\n        \"samples\": [\n          \"fadein invisible list item jquery unordered list lis invisible display begin want specific li visible js function try $ list li nth child(1)\\\").fadein work ul visible begin code > li      display   < ul class=\\\"hide id=\\\"my list >      < li>1</li >      < li>2</li >      < li>3</li > < /ul >   try answer question feel free stab\",\n          \"deploy project server create website excel file mail d information mail d fetch excel file excel file send mail automatically mail d design subject cc bcc content create project export excel file fetch mail d ms access database send email automatically design deploy project ftp.i know create help regard padmapriya s  \",\n          \"custom keypad button functional app finish scoreboard app   user longclick score currently dialog box appear show edittext field ok cancel button   user click edittext field keypad appear number user type new score click edittext field show new value dialog box user click ok save enter value textview show current score problem feel cumbersome   like happen   user longclick score keypad appear user enter new score user click ok keypad disappear value save textview update current score   order accomplish think thing   create new class extend view new android understand option replace edittext dialog new xml file design like keypad   option 2   figure probably easy design xml layout call   user longclick file inflate dialog ok cancel   far good   know code button action thought figure setup onclick listener button layout   figure button go perform exact function   basically text button case 0 9 append textview keypad   user click ok save textview current score textview help point right direction accomplish screenshot textview number   xml code < xml version=\\\"1.0 encoding=\\\"utf-8 > < gridlayout xmlns apk res android android layout_width=\\\"wrap_content android layout_height=\\\"wrap_content android layout_gravity=\\\"fill android columncount=\\\"3 >   < textview      android id=\\\"@+id textview1      android layout_columnspan=\\\"3      android layout_gravity=\\\"fill      android gravity=\\\"right|center_vertical      android textsize=\\\"24sp >   < button android text=\\\"1 >   < button android text=\\\"2 >   < button android text=\\\"3 > < button android text=\\\"4 > < button android text=\\\"5 > < button android text=\\\"6 > < button android text=\\\"7 > < button android text=\\\"8 > < button android text=\\\"9 >   < button      android layout_columnspan=\\\"3      android layout_gravity=\\\"fill      android gravity=\\\"center      android text=\\\"0 >   \"\n        ],\n        \"semantic_type\": \"\",\n        \"description\": \"\"\n      }\n    },\n    {\n      \"column\": \"Tags\",\n      \"properties\": {\n        \"dtype\": \"category\",\n        \"num_unique_values\": 176,\n        \"samples\": [\n          \"javascript asp.net\",\n          \"c# asp.net jquery\",\n          \"c# java python\"\n        ],\n        \"semantic_type\": \"\",\n        \"description\": \"\"\n      }\n    },\n    {\n      \"column\": \"Tag_Number\",\n      \"properties\": {\n        \"dtype\": \"category\",\n        \"num_unique_values\": 176,\n        \"samples\": [\n          \"[3, 9]\",\n          \"[0, 9, 5]\",\n          \"[0, 1, 7]\"\n        ],\n        \"semantic_type\": \"\",\n        \"description\": \"\"\n      }\n    },\n    {\n      \"column\": \"Tag_Number_int\",\n      \"properties\": {\n        \"dtype\": \"object\",\n        \"semantic_type\": \"\",\n        \"description\": \"\"\n      }\n    }\n  ]\n}",
       "type": "dataframe",
       "variable_name": "df"
      },
      "text/html": [
       "\n",
       "  <div id=\"df-4e4b43f0-dff1-4b47-8af4-8b4561ccac84\" class=\"colab-df-container\">\n",
       "    <div>\n",
       "<style scoped>\n",
       "    .dataframe tbody tr th:only-of-type {\n",
       "        vertical-align: middle;\n",
       "    }\n",
       "\n",
       "    .dataframe tbody tr th {\n",
       "        vertical-align: top;\n",
       "    }\n",
       "\n",
       "    .dataframe thead th {\n",
       "        text-align: right;\n",
       "    }\n",
       "</style>\n",
       "<table border=\"1\" class=\"dataframe\">\n",
       "  <thead>\n",
       "    <tr style=\"text-align: right;\">\n",
       "      <th></th>\n",
       "      <th>cleaned_text</th>\n",
       "      <th>Tags</th>\n",
       "      <th>Tag_Number</th>\n",
       "      <th>Tag_Number_int</th>\n",
       "    </tr>\n",
       "  </thead>\n",
       "  <tbody>\n",
       "    <tr>\n",
       "      <th>0</th>\n",
       "      <td>asp query stre dropdown webpage follow control...</td>\n",
       "      <td>c# asp.net</td>\n",
       "      <td>[0, 9]</td>\n",
       "      <td>[0, 9]</td>\n",
       "    </tr>\n",
       "    <tr>\n",
       "      <th>1</th>\n",
       "      <td>run javascript code server java code want run ...</td>\n",
       "      <td>java javascript</td>\n",
       "      <td>[1, 3]</td>\n",
       "      <td>[1, 3]</td>\n",
       "    </tr>\n",
       "    <tr>\n",
       "      <th>2</th>\n",
       "      <td>linq sql throw exception row find change hi li...</td>\n",
       "      <td>c# asp.net</td>\n",
       "      <td>[0, 9]</td>\n",
       "      <td>[0, 9]</td>\n",
       "    </tr>\n",
       "    <tr>\n",
       "      <th>3</th>\n",
       "      <td>run python script php server run nginx web ser...</td>\n",
       "      <td>php python</td>\n",
       "      <td>[2, 7]</td>\n",
       "      <td>[2, 7]</td>\n",
       "    </tr>\n",
       "    <tr>\n",
       "      <th>4</th>\n",
       "      <td>advice write function m try write function res...</td>\n",
       "      <td>javascript jquery</td>\n",
       "      <td>[3, 5]</td>\n",
       "      <td>[3, 5]</td>\n",
       "    </tr>\n",
       "  </tbody>\n",
       "</table>\n",
       "</div>\n",
       "    <div class=\"colab-df-buttons\">\n",
       "\n",
       "  <div class=\"colab-df-container\">\n",
       "    <button class=\"colab-df-convert\" onclick=\"convertToInteractive('df-4e4b43f0-dff1-4b47-8af4-8b4561ccac84')\"\n",
       "            title=\"Convert this dataframe to an interactive table.\"\n",
       "            style=\"display:none;\">\n",
       "\n",
       "  <svg xmlns=\"http://www.w3.org/2000/svg\" height=\"24px\" viewBox=\"0 -960 960 960\">\n",
       "    <path d=\"M120-120v-720h720v720H120Zm60-500h600v-160H180v160Zm220 220h160v-160H400v160Zm0 220h160v-160H400v160ZM180-400h160v-160H180v160Zm440 0h160v-160H620v160ZM180-180h160v-160H180v160Zm440 0h160v-160H620v160Z\"/>\n",
       "  </svg>\n",
       "    </button>\n",
       "\n",
       "  <style>\n",
       "    .colab-df-container {\n",
       "      display:flex;\n",
       "      gap: 12px;\n",
       "    }\n",
       "\n",
       "    .colab-df-convert {\n",
       "      background-color: #E8F0FE;\n",
       "      border: none;\n",
       "      border-radius: 50%;\n",
       "      cursor: pointer;\n",
       "      display: none;\n",
       "      fill: #1967D2;\n",
       "      height: 32px;\n",
       "      padding: 0 0 0 0;\n",
       "      width: 32px;\n",
       "    }\n",
       "\n",
       "    .colab-df-convert:hover {\n",
       "      background-color: #E2EBFA;\n",
       "      box-shadow: 0px 1px 2px rgba(60, 64, 67, 0.3), 0px 1px 3px 1px rgba(60, 64, 67, 0.15);\n",
       "      fill: #174EA6;\n",
       "    }\n",
       "\n",
       "    .colab-df-buttons div {\n",
       "      margin-bottom: 4px;\n",
       "    }\n",
       "\n",
       "    [theme=dark] .colab-df-convert {\n",
       "      background-color: #3B4455;\n",
       "      fill: #D2E3FC;\n",
       "    }\n",
       "\n",
       "    [theme=dark] .colab-df-convert:hover {\n",
       "      background-color: #434B5C;\n",
       "      box-shadow: 0px 1px 3px 1px rgba(0, 0, 0, 0.15);\n",
       "      filter: drop-shadow(0px 1px 2px rgba(0, 0, 0, 0.3));\n",
       "      fill: #FFFFFF;\n",
       "    }\n",
       "  </style>\n",
       "\n",
       "    <script>\n",
       "      const buttonEl =\n",
       "        document.querySelector('#df-4e4b43f0-dff1-4b47-8af4-8b4561ccac84 button.colab-df-convert');\n",
       "      buttonEl.style.display =\n",
       "        google.colab.kernel.accessAllowed ? 'block' : 'none';\n",
       "\n",
       "      async function convertToInteractive(key) {\n",
       "        const element = document.querySelector('#df-4e4b43f0-dff1-4b47-8af4-8b4561ccac84');\n",
       "        const dataTable =\n",
       "          await google.colab.kernel.invokeFunction('convertToInteractive',\n",
       "                                                    [key], {});\n",
       "        if (!dataTable) return;\n",
       "\n",
       "        const docLinkHtml = 'Like what you see? Visit the ' +\n",
       "          '<a target=\"_blank\" href=https://colab.research.google.com/notebooks/data_table.ipynb>data table notebook</a>'\n",
       "          + ' to learn more about interactive tables.';\n",
       "        element.innerHTML = '';\n",
       "        dataTable['output_type'] = 'display_data';\n",
       "        await google.colab.output.renderOutput(dataTable, element);\n",
       "        const docLink = document.createElement('div');\n",
       "        docLink.innerHTML = docLinkHtml;\n",
       "        element.appendChild(docLink);\n",
       "      }\n",
       "    </script>\n",
       "  </div>\n",
       "\n",
       "\n",
       "<div id=\"df-bea283c8-995e-41fb-bf28-4c434882248f\">\n",
       "  <button class=\"colab-df-quickchart\" onclick=\"quickchart('df-bea283c8-995e-41fb-bf28-4c434882248f')\"\n",
       "            title=\"Suggest charts\"\n",
       "            style=\"display:none;\">\n",
       "\n",
       "<svg xmlns=\"http://www.w3.org/2000/svg\" height=\"24px\"viewBox=\"0 0 24 24\"\n",
       "     width=\"24px\">\n",
       "    <g>\n",
       "        <path d=\"M19 3H5c-1.1 0-2 .9-2 2v14c0 1.1.9 2 2 2h14c1.1 0 2-.9 2-2V5c0-1.1-.9-2-2-2zM9 17H7v-7h2v7zm4 0h-2V7h2v10zm4 0h-2v-4h2v4z\"/>\n",
       "    </g>\n",
       "</svg>\n",
       "  </button>\n",
       "\n",
       "<style>\n",
       "  .colab-df-quickchart {\n",
       "      --bg-color: #E8F0FE;\n",
       "      --fill-color: #1967D2;\n",
       "      --hover-bg-color: #E2EBFA;\n",
       "      --hover-fill-color: #174EA6;\n",
       "      --disabled-fill-color: #AAA;\n",
       "      --disabled-bg-color: #DDD;\n",
       "  }\n",
       "\n",
       "  [theme=dark] .colab-df-quickchart {\n",
       "      --bg-color: #3B4455;\n",
       "      --fill-color: #D2E3FC;\n",
       "      --hover-bg-color: #434B5C;\n",
       "      --hover-fill-color: #FFFFFF;\n",
       "      --disabled-bg-color: #3B4455;\n",
       "      --disabled-fill-color: #666;\n",
       "  }\n",
       "\n",
       "  .colab-df-quickchart {\n",
       "    background-color: var(--bg-color);\n",
       "    border: none;\n",
       "    border-radius: 50%;\n",
       "    cursor: pointer;\n",
       "    display: none;\n",
       "    fill: var(--fill-color);\n",
       "    height: 32px;\n",
       "    padding: 0;\n",
       "    width: 32px;\n",
       "  }\n",
       "\n",
       "  .colab-df-quickchart:hover {\n",
       "    background-color: var(--hover-bg-color);\n",
       "    box-shadow: 0 1px 2px rgba(60, 64, 67, 0.3), 0 1px 3px 1px rgba(60, 64, 67, 0.15);\n",
       "    fill: var(--button-hover-fill-color);\n",
       "  }\n",
       "\n",
       "  .colab-df-quickchart-complete:disabled,\n",
       "  .colab-df-quickchart-complete:disabled:hover {\n",
       "    background-color: var(--disabled-bg-color);\n",
       "    fill: var(--disabled-fill-color);\n",
       "    box-shadow: none;\n",
       "  }\n",
       "\n",
       "  .colab-df-spinner {\n",
       "    border: 2px solid var(--fill-color);\n",
       "    border-color: transparent;\n",
       "    border-bottom-color: var(--fill-color);\n",
       "    animation:\n",
       "      spin 1s steps(1) infinite;\n",
       "  }\n",
       "\n",
       "  @keyframes spin {\n",
       "    0% {\n",
       "      border-color: transparent;\n",
       "      border-bottom-color: var(--fill-color);\n",
       "      border-left-color: var(--fill-color);\n",
       "    }\n",
       "    20% {\n",
       "      border-color: transparent;\n",
       "      border-left-color: var(--fill-color);\n",
       "      border-top-color: var(--fill-color);\n",
       "    }\n",
       "    30% {\n",
       "      border-color: transparent;\n",
       "      border-left-color: var(--fill-color);\n",
       "      border-top-color: var(--fill-color);\n",
       "      border-right-color: var(--fill-color);\n",
       "    }\n",
       "    40% {\n",
       "      border-color: transparent;\n",
       "      border-right-color: var(--fill-color);\n",
       "      border-top-color: var(--fill-color);\n",
       "    }\n",
       "    60% {\n",
       "      border-color: transparent;\n",
       "      border-right-color: var(--fill-color);\n",
       "    }\n",
       "    80% {\n",
       "      border-color: transparent;\n",
       "      border-right-color: var(--fill-color);\n",
       "      border-bottom-color: var(--fill-color);\n",
       "    }\n",
       "    90% {\n",
       "      border-color: transparent;\n",
       "      border-bottom-color: var(--fill-color);\n",
       "    }\n",
       "  }\n",
       "</style>\n",
       "\n",
       "  <script>\n",
       "    async function quickchart(key) {\n",
       "      const quickchartButtonEl =\n",
       "        document.querySelector('#' + key + ' button');\n",
       "      quickchartButtonEl.disabled = true;  // To prevent multiple clicks.\n",
       "      quickchartButtonEl.classList.add('colab-df-spinner');\n",
       "      try {\n",
       "        const charts = await google.colab.kernel.invokeFunction(\n",
       "            'suggestCharts', [key], {});\n",
       "      } catch (error) {\n",
       "        console.error('Error during call to suggestCharts:', error);\n",
       "      }\n",
       "      quickchartButtonEl.classList.remove('colab-df-spinner');\n",
       "      quickchartButtonEl.classList.add('colab-df-quickchart-complete');\n",
       "    }\n",
       "    (() => {\n",
       "      let quickchartButtonEl =\n",
       "        document.querySelector('#df-bea283c8-995e-41fb-bf28-4c434882248f button');\n",
       "      quickchartButtonEl.style.display =\n",
       "        google.colab.kernel.accessAllowed ? 'block' : 'none';\n",
       "    })();\n",
       "  </script>\n",
       "</div>\n",
       "\n",
       "    </div>\n",
       "  </div>\n"
      ],
      "text/plain": [
       "                                        cleaned_text               Tags  \\\n",
       "0  asp query stre dropdown webpage follow control...         c# asp.net   \n",
       "1  run javascript code server java code want run ...    java javascript   \n",
       "2  linq sql throw exception row find change hi li...         c# asp.net   \n",
       "3  run python script php server run nginx web ser...         php python   \n",
       "4  advice write function m try write function res...  javascript jquery   \n",
       "\n",
       "  Tag_Number Tag_Number_int  \n",
       "0     [0, 9]         [0, 9]  \n",
       "1     [1, 3]         [1, 3]  \n",
       "2     [0, 9]         [0, 9]  \n",
       "3     [2, 7]         [2, 7]  \n",
       "4     [3, 5]         [3, 5]  "
      ]
     },
     "execution_count": 4,
     "metadata": {},
     "output_type": "execute_result"
    }
   ],
   "source": [
    "df['Tag_Number_int'] = df['Tag_Number'].apply(ast.literal_eval)\n",
    "df.head()"
   ]
  },
  {
   "cell_type": "code",
   "execution_count": 5,
   "metadata": {
    "colab": {
     "base_uri": "https://localhost:8080/"
    },
    "id": "24pNvGBzvb-g",
    "outputId": "043584d6-a251-44c9-fc76-822f3dfc09f4"
   },
   "outputs": [
    {
     "name": "stdout",
     "output_type": "stream",
     "text": [
      "Classes: [0 1 2 3 4 5 6 7 8 9]\n"
     ]
    }
   ],
   "source": [
    "mlb = MultiLabelBinarizer()\n",
    "one_hot_encoded_tags = mlb.fit_transform(df['Tag_Number_int']).astype(float)\n",
    "print(\"Classes:\", mlb.classes_)"
   ]
  },
  {
   "cell_type": "code",
   "execution_count": 6,
   "metadata": {
    "colab": {
     "base_uri": "https://localhost:8080/"
    },
    "id": "R-4KXkmZST6K",
    "outputId": "44234dee-58da-44e9-ea3a-e7d4e226bd73"
   },
   "outputs": [
    {
     "data": {
      "text/plain": [
       "array([[1., 0., 0., ..., 0., 0., 1.],\n",
       "       [0., 1., 0., ..., 0., 0., 0.],\n",
       "       [1., 0., 0., ..., 0., 0., 1.],\n",
       "       ...,\n",
       "       [0., 1., 0., ..., 0., 0., 0.],\n",
       "       [0., 0., 0., ..., 0., 0., 1.],\n",
       "       [0., 0., 0., ..., 0., 0., 0.]])"
      ]
     },
     "execution_count": 6,
     "metadata": {},
     "output_type": "execute_result"
    }
   ],
   "source": [
    "one_hot_encoded_tags"
   ]
  },
  {
   "cell_type": "code",
   "execution_count": 7,
   "metadata": {
    "id": "K5gvvFDdvl-c"
   },
   "outputs": [],
   "source": [
    "X_temp, X_test, y_temp, y_test = train_test_split(df['cleaned_text'].values, one_hot_encoded_tags, test_size=0.2, random_state=42)\n",
    "X_train, X_val, y_train, y_val = train_test_split(X_temp, y_temp, test_size=0.25, random_state=42)"
   ]
  },
  {
   "cell_type": "code",
   "execution_count": 8,
   "metadata": {
    "colab": {
     "base_uri": "https://localhost:8080/"
    },
    "id": "US5rHoMUw2BE",
    "outputId": "a601a85b-e01a-4257-e518-1b52075fe028"
   },
   "outputs": [
    {
     "data": {
      "text/plain": [
       "((28455,), (9486,), (9486,))"
      ]
     },
     "execution_count": 8,
     "metadata": {},
     "output_type": "execute_result"
    }
   ],
   "source": [
    "X_train.shape, X_val.shape, X_test.shape"
   ]
  },
  {
   "cell_type": "code",
   "execution_count": 9,
   "metadata": {
    "id": "JKfpGAPyPbFH"
   },
   "outputs": [],
   "source": [
    "class CustomDataset(torch.utils.data.Dataset):\n",
    "    def __init__(self, X, y):\n",
    "        self.X = X\n",
    "        self.y = y\n",
    "\n",
    "    def __len__(self):\n",
    "        return len(self.X)\n",
    "\n",
    "    def __getitem__(self, idx):\n",
    "        texts = self.X[idx]\n",
    "        labels = self.y[idx]\n",
    "        sample = (labels, texts)\n",
    "\n",
    "        return sample"
   ]
  },
  {
   "cell_type": "code",
   "execution_count": 10,
   "metadata": {
    "id": "ft8IL29SPmnI"
   },
   "outputs": [],
   "source": [
    "trainset = CustomDataset(X_train, y_train)\n",
    "validset = CustomDataset(X_val, y_val)\n",
    "testset = CustomDataset(X_test, y_test)"
   ]
  },
  {
   "cell_type": "code",
   "execution_count": 11,
   "metadata": {
    "id": "IfU-5qm6T_YM"
   },
   "outputs": [],
   "source": [
    "def get_vocab(dataset, min_freq=1):\n",
    "    counter = Counter()\n",
    "    for (label, text) in dataset:\n",
    "        counter.update(text.split())\n",
    "    my_vocab = vocab(counter, min_freq=min_freq)\n",
    "    my_vocab.insert_token('<unk>', 0)\n",
    "    my_vocab.set_default_index(0)\n",
    "\n",
    "    return my_vocab"
   ]
  },
  {
   "cell_type": "code",
   "execution_count": 12,
   "metadata": {
    "id": "I7_8_0rtdphM"
   },
   "outputs": [],
   "source": [
    "train_vocab = get_vocab(trainset, min_freq=2)"
   ]
  },
  {
   "cell_type": "code",
   "execution_count": 13,
   "metadata": {
    "id": "dpRsKI_-dpec"
   },
   "outputs": [],
   "source": [
    "def tokenizer(x, vocab):\n",
    "    return [vocab[token] for token in x.split()]"
   ]
  },
  {
   "cell_type": "code",
   "execution_count": 14,
   "metadata": {
    "id": "H3ePIpd_dpcG"
   },
   "outputs": [],
   "source": [
    "def collate_batch(batch, my_vocab):\n",
    "    labels, texts = zip(*batch)\n",
    "    labels = torch.tensor(labels, dtype=torch.long)\n",
    "    list_of_list_of_indices = [tokenizer(text, my_vocab) for text in texts]\n",
    "    indices = torch.cat([torch.tensor(i, dtype=torch.int64) for i in list_of_list_of_indices])\n",
    "    offsets = [0] + [len(i) for i in list_of_list_of_indices]\n",
    "    offsets = torch.tensor(offsets[:-1]).cumsum(dim=0)\n",
    "\n",
    "    return (indices, offsets), labels"
   ]
  },
  {
   "cell_type": "code",
   "execution_count": 15,
   "metadata": {
    "id": "UgMPsFtiNgVl"
   },
   "outputs": [],
   "source": [
    "collate_partial = partial(collate_batch, my_vocab=train_vocab)\n",
    "check_loader = torch.utils.data.DataLoader(dataset=trainset, batch_size=2,\n",
    "                                           shuffle=True, collate_fn=collate_partial)"
   ]
  },
  {
   "cell_type": "code",
   "execution_count": 16,
   "metadata": {
    "colab": {
     "base_uri": "https://localhost:8080/"
    },
    "id": "L83W_bY2N05I",
    "outputId": "0f539e82-d408-44f4-9d91-3efbfdf1ec96"
   },
   "outputs": [
    {
     "name": "stdout",
     "output_type": "stream",
     "text": [
      "tensor([   98, 13383,   173,   985,    70,   488,   199,     0,  2224,    97,\n",
      "           98,   241,   227,   252,   101,     0,  2224,  3225,    18,  3225,\n",
      "          816,    18,     0,   407,     0,     5,   989, 27651,   696,  2825,\n",
      "          309,  1241,   226,   987,   343,  1758,    17,  1086,  1821,   103,\n",
      "          411,  1241,   681,    39,   197,  4471,   568,   293,  4015,  1040,\n",
      "          568,  6197,  1437,    70,  2412,   985,   496,   653,   197,  1672,\n",
      "          132,  2412,   252,  2025,   647,   567,   201,   907,   527,   528,\n",
      "         4015,   568,   370,   723,  1355,   560,   568,  4294,   629,   567,\n",
      "          342,   567,   619,   668,   560,    41,   641,   942,   943,   944,\n",
      "         1781,   261,     0,    48,   261,     0,  1781,   919,   919,    48,\n",
      "        60950,  1781,  2025, 68819,    48,  2025,     0,  1781,  2025,     0,\n",
      "           48,  2025,     0,  1781,    64, 68820,    48,  1967,  4941,  3186,\n",
      "         1781,    64, 68821,    48,  1967,  4941,  4943,  1781,    64, 68822,\n",
      "           48, 68823,  1781,    64, 68824,    48, 14737,     0,   558,   667,\n",
      "          668,   560,    41,   669,   558, 68825, 68826,    48,    49,     0,\n",
      "        68821, 68822, 68824, 68819, 68826, 68827,    64,  1672,    48,     0,\n",
      "            0,   560,   568, 68825,  1665,   293,   615, 68828,    64, 68829,\n",
      "           64, 68830,   615, 68831,  1668,    64, 68832, 15392,   790,   252,\n",
      "           64, 10672,  2025, 68833,   252,   252,   919,  9877,  1781,    64,\n",
      "            0,    48,   252,  9873,   560,     0, 68820,    64, 68821,    64,\n",
      "        68822,    64, 68824,  2025,  7097, 35289,  1668,   293, 68828,    48,\n",
      "        68820, 68829,    48, 68821, 68831,    48, 68824, 68830,    48, 68822,\n",
      "        68833,    48,  7097,   410,  1468, 68834,   103,   560,    41, 68827,\n",
      "        68835,  9877,    48, 68835,  1079,    49,   967,  2267,  2412,   967,\n",
      "          967,    48,    49,     0,     0,  5561,  1400,   139,   199,   967,\n",
      "        68836,     0, 68836,     0, 68836,     0, 68836,     0,  4268,  6116,\n",
      "        35614,  5075, 32017,    48,    49,  5075,   668,   560,    41,  5094,\n",
      "          919,   967,     0,   642,   642,    48,     0,     0,    48,     0,\n",
      "        15392,   619,   252,     0,   252,    48,    49,     0, 17103,   619,\n",
      "          252, 10672,    48,     0,     0,     0,   619,   252,   253,     0,\n",
      "            0, 10672,  2026,  2800,  2035, 10672,  2026,  2800,     0,     0,\n",
      "           63, 32017,    63,   567, 15932,    63,    63,   410,   103,  2412,\n",
      "          560,    64,     0,   173, 68832,   560,    64,     0,   173, 10672,\n",
      "          410,   568]) tensor([ 0, 44]) tensor([[0, 0, 0, 1, 0, 1, 0, 0, 0, 0],\n",
      "        [0, 1, 0, 0, 1, 0, 0, 0, 0, 0]])\n"
     ]
    },
    {
     "name": "stderr",
     "output_type": "stream",
     "text": [
      "<ipython-input-14-b523db7c5814>:3: UserWarning: Creating a tensor from a list of numpy.ndarrays is extremely slow. Please consider converting the list to a single numpy.ndarray with numpy.array() before converting to a tensor. (Triggered internally at ../torch/csrc/utils/tensor_new.cpp:261.)\n",
      "  labels = torch.tensor(labels, dtype=torch.long)\n"
     ]
    }
   ],
   "source": [
    "for (indices, offset), label in check_loader:\n",
    "    print(indices, offset, label)\n",
    "    break"
   ]
  },
  {
   "cell_type": "code",
   "execution_count": 17,
   "metadata": {
    "id": "tFj2dlJzxgzg"
   },
   "outputs": [],
   "source": [
    "import torch\n",
    "import torch.nn as nn\n",
    "import torch.nn.functional as F\n",
    "\n",
    "class SimpleMLP(nn.Module):\n",
    "    def __init__(self, vocab_size, embedding_dim, hidden_dim1, hidden_dim2, drop_prob1, drop_prob2, num_outputs):\n",
    "        super().__init__()\n",
    "        self.embedding_bag = nn.EmbeddingBag(vocab_size, embedding_dim, mode='mean')\n",
    "        self.fc1 = nn.Linear(embedding_dim, hidden_dim1)\n",
    "        self.relu = nn.ReLU()\n",
    "        self.dropout1 = nn.Dropout(drop_prob1)\n",
    "        self.batchnorm1 = nn.BatchNorm1d(hidden_dim1)\n",
    "        self.fc2 = nn.Linear(hidden_dim1, hidden_dim2)\n",
    "        self.dropout2 = nn.Dropout(drop_prob2)\n",
    "        self.batchnorm2 = nn.BatchNorm1d(hidden_dim2)\n",
    "        self.fc3 = nn.Linear(hidden_dim2, num_outputs)\n",
    "\n",
    "    def forward(self, input_tuple):\n",
    "        indices, offsets = input_tuple\n",
    "        x = self.embedding_bag(indices, offsets)\n",
    "        x = self.fc1(x)\n",
    "        x = self.relu(x)\n",
    "        x = self.dropout1(x)\n",
    "        x = self.batchnorm1(x)\n",
    "        x = self.fc2(x)\n",
    "        x = self.relu(x)\n",
    "        x = self.dropout2(x)\n",
    "        x = self.batchnorm2(x)\n",
    "        output = self.fc3(x)\n",
    "\n",
    "        return output"
   ]
  },
  {
   "cell_type": "code",
   "execution_count": 19,
   "metadata": {
    "colab": {
     "base_uri": "https://localhost:8080/"
    },
    "id": "UrsU_zLLhA8K",
    "outputId": "37352979-4ce4-4b61-f119-daa61166f96a"
   },
   "outputs": [
    {
     "data": {
      "text/plain": [
       "==========================================================================================\n",
       "Layer (type:depth-idx)                   Output Shape              Param #\n",
       "==========================================================================================\n",
       "SimpleMLP                                [3, 10]                   --\n",
       "├─EmbeddingBag: 1-1                      [3, 300]                  3,000\n",
       "├─Linear: 1-2                            [3, 200]                  60,200\n",
       "├─ReLU: 1-3                              [3, 200]                  --\n",
       "├─Dropout: 1-4                           [3, 200]                  --\n",
       "├─BatchNorm1d: 1-5                       [3, 200]                  400\n",
       "├─Linear: 1-6                            [3, 100]                  20,100\n",
       "├─ReLU: 1-7                              [3, 100]                  --\n",
       "├─Dropout: 1-8                           [3, 100]                  --\n",
       "├─BatchNorm1d: 1-9                       [3, 100]                  200\n",
       "├─Linear: 1-10                           [3, 10]                   1,010\n",
       "==========================================================================================\n",
       "Total params: 84,910\n",
       "Trainable params: 84,910\n",
       "Non-trainable params: 0\n",
       "Total mult-adds (M): 0.25\n",
       "==========================================================================================\n",
       "Input size (MB): 0.00\n",
       "Forward/backward pass size (MB): 0.02\n",
       "Params size (MB): 0.34\n",
       "Estimated Total Size (MB): 0.36\n",
       "=========================================================================================="
      ]
     },
     "execution_count": 19,
     "metadata": {},
     "output_type": "execute_result"
    }
   ],
   "source": [
    "device = torch.device('cuda:0' if torch.cuda.is_available() else 'cpu')\n",
    "model = SimpleMLP(vocab_size=10 , embedding_dim=300, hidden_dim1=200, hidden_dim2=100, drop_prob1=0.5, drop_prob2=0.5, num_outputs=10)\n",
    "model = model.to(device)\n",
    "\n",
    "# Generate some dummy input data and offsets, and move them to the device\n",
    "data = torch.tensor([1, 2, 4, 5, 4], dtype = torch.int32).to(device)\n",
    "offsets = torch.tensor([0, 2, 4], dtype = torch.int32).to(device)\n",
    "\n",
    "hamming_distance = HammingDistance(task=\"multilabel\", num_labels=10).to(device)\n",
    "\n",
    "summary(model, input_data=[(data, offsets)], device=device, depth=10, verbose=False)"
   ]
  },
  {
   "cell_type": "code",
   "execution_count": 20,
   "metadata": {
    "colab": {
     "base_uri": "https://localhost:8080/"
    },
    "id": "na74h2I7R_KF",
    "outputId": "5e6bf094-30e2-4684-a6d9-56b03bea4255"
   },
   "outputs": [
    {
     "name": "stdout",
     "output_type": "stream",
     "text": [
      "tensor([[ 0.4241,  0.0916,  0.2717, -0.2661, -0.0904, -0.4252, -0.5955, -0.2791,\n",
      "          0.6692,  0.5841],\n",
      "        [-0.2563, -0.5006, -0.3026, -0.2827,  0.4733, -0.2126,  0.0840, -0.2129,\n",
      "         -1.0135, -0.5543],\n",
      "        [ 0.0122,  0.6028,  0.0529,  0.3907, -0.2295,  0.3974,  0.4681,  0.2645,\n",
      "          0.0876, -0.0246]], device='cuda:0', grad_fn=<AddmmBackward0>)\n"
     ]
    }
   ],
   "source": [
    "output = model((data, offsets))\n",
    "print(output)"
   ]
  },
  {
   "cell_type": "code",
   "execution_count": 21,
   "metadata": {
    "id": "3KpduDKshA5t"
   },
   "outputs": [],
   "source": [
    "def step(inputs, targets, model, device, loss_function=None, optimizer=None):\n",
    "    model = model.to(device)\n",
    "    inputs = tuple(input_tensor.to(device) for input_tensor in inputs)\n",
    "    targets = targets.to(dtype=torch.float32)\n",
    "    targets = targets.to(device)\n",
    "\n",
    "    outputs = model(inputs)\n",
    "\n",
    "    if loss_function:\n",
    "        loss = loss_function(outputs, targets)\n",
    "\n",
    "    predicted = outputs.to(device)\n",
    "\n",
    "    if optimizer:\n",
    "        optimizer.zero_grad()\n",
    "        loss.backward()\n",
    "        torch.nn.utils.clip_grad_value_(model.parameters(), clip_value=10.0)\n",
    "        optimizer.step()\n",
    "\n",
    "    if loss_function:\n",
    "        return loss, predicted\n",
    "    else:\n",
    "        return None, predicted"
   ]
  },
  {
   "cell_type": "code",
   "execution_count": 22,
   "metadata": {
    "id": "s46AczHgkySd"
   },
   "outputs": [],
   "source": [
    "def train_epoch(train_loader, model, device, loss_function, optimizer):\n",
    "    train_hamming_distance = HammingDistance(task=\"multilabel\", num_labels=10).to(device)\n",
    "    model.train()\n",
    "    running_train_loss = 0.0\n",
    "\n",
    "    for inputs, targets in train_loader:\n",
    "        targets = targets.to(device)\n",
    "        loss, predicted = step(inputs, targets, model, device, loss_function, optimizer)\n",
    "        running_train_loss += loss.item()\n",
    "        train_hamming_distance.update(predicted, targets)\n",
    "\n",
    "    train_loss = running_train_loss / len(train_loader)\n",
    "    train_hamming_distance = train_hamming_distance.compute()\n",
    "\n",
    "    return train_loss, train_hamming_distance"
   ]
  },
  {
   "cell_type": "code",
   "execution_count": 23,
   "metadata": {
    "id": "XOI1TE_HkXA1"
   },
   "outputs": [],
   "source": [
    "def val_epoch(valid_loader, model, device, loss_function):\n",
    "    val_hamming_distance = HammingDistance(task=\"multilabel\", num_labels=10).to(device)\n",
    "    model.train()\n",
    "    running_val_loss = 0.0\n",
    "\n",
    "    for inputs, targets in valid_loader:\n",
    "        targets = targets.to(device)\n",
    "        loss, predicted = step(inputs, targets, model, device, loss_function, optimizer=None)\n",
    "        running_val_loss += loss.item()\n",
    "        val_hamming_distance.update(predicted, targets)\n",
    "\n",
    "    val_loss = running_val_loss / len(valid_loader)\n",
    "    val_hamming_distance = val_hamming_distance.compute()\n",
    "\n",
    "    return val_loss, val_hamming_distance"
   ]
  },
  {
   "cell_type": "code",
   "execution_count": 24,
   "metadata": {
    "id": "r27dLNNbhA3N"
   },
   "outputs": [],
   "source": [
    "def train(train_loader, valid_loader, model, optimizer, loss_function, epochs, device, patience):\n",
    "    train_loss_history = []\n",
    "    valid_loss_history = []\n",
    "    train_hamm_history = []\n",
    "    valid_hamm_history = []\n",
    "\n",
    "    for epoch in range(epochs):\n",
    "        train_loss, train_hamm = train_epoch(\n",
    "            train_loader, model, device, loss_function, optimizer)\n",
    "\n",
    "        valid_loss, valid_hamm = val_epoch(\n",
    "            valid_loader, model, device, loss_function)\n",
    "\n",
    "        train_loss_history.append(train_loss)\n",
    "        train_hamm_history.append(train_hamm)\n",
    "        valid_loss_history.append(valid_loss)\n",
    "        valid_hamm_history.append(valid_hamm)\n",
    "\n",
    "        print(f\"Epoch {epoch+1}/{epochs}\")\n",
    "        print(f\"Train Loss: {train_loss:.4f} | Train Hamming Loss: {train_hamm}\")\n",
    "        print(f\"Valid Loss: {valid_loss:.4f} | Valid Hamming Loss: {valid_hamm}\")\n",
    "        print()\n",
    "\n",
    "        if all(element == valid_loss_history[-1] for element in valid_loss_history[-patience:]):\n",
    "          break\n",
    "\n",
    "    return train_loss_history, train_hamm_history, valid_loss_history, valid_hamm_history"
   ]
  },
  {
   "cell_type": "code",
   "execution_count": 25,
   "metadata": {
    "id": "XEO1Rd3Mo1Xu"
   },
   "outputs": [],
   "source": [
    "# model Parameters\n",
    "EMBED_DIM=300\n",
    "VOCAB_SIZE=len(train_vocab)\n",
    "HIDDEN_DIM1=200\n",
    "HIDDEN_DIM2=100\n",
    "DROP_PROB1=0.5\n",
    "DROP_PROB2=0.5\n",
    "NUM_OUTPUTS=10\n",
    "PATIENCE=5\n",
    "\n",
    "# training\n",
    "EPOCHS=5\n",
    "BATCH_SIZE=128\n",
    "LEARNING_RATE=0.001\n",
    "WEIGHT_DECAY=0.0"
   ]
  },
  {
   "cell_type": "code",
   "execution_count": 26,
   "metadata": {
    "colab": {
     "base_uri": "https://localhost:8080/"
    },
    "id": "tzt75eZLqga8",
    "outputId": "bf5ad23b-3dcc-40d4-9a14-4e1cd0d588d9"
   },
   "outputs": [
    {
     "name": "stderr",
     "output_type": "stream",
     "text": [
      "/usr/local/lib/python3.10/dist-packages/torch/utils/data/dataloader.py:557: UserWarning: This DataLoader will create 4 worker processes in total. Our suggested max number of worker in current system is 2, which is smaller than what this DataLoader is going to create. Please be aware that excessive worker creation might get DataLoader running slow or even freeze, lower the worker number to avoid potential slowness/freeze if necessary.\n",
      "  warnings.warn(_create_warning_msg(\n"
     ]
    }
   ],
   "source": [
    "import random\n",
    "import numpy as np\n",
    "\n",
    "SEED = 1103\n",
    "random.seed(SEED)\n",
    "np.random.seed(SEED)\n",
    "torch.manual_seed(SEED)\n",
    "torch.cuda.manual_seed(SEED)\n",
    "torch.backends.cudnn.deterministic = True\n",
    "\n",
    "collate_fn = partial(collate_batch, my_vocab=train_vocab)\n",
    "\n",
    "train_loader = torch.utils.data.DataLoader(trainset, batch_size = BATCH_SIZE, shuffle=True,\n",
    "                                           collate_fn=collate_fn, num_workers=4)\n",
    "valid_loader = torch.utils.data.DataLoader(validset, batch_size=BATCH_SIZE, shuffle=False,\n",
    "                                           collate_fn=collate_fn, num_workers=4)\n",
    "test_loader = torch.utils.data.DataLoader(testset, batch_size=BATCH_SIZE, shuffle=False,\n",
    "                                          collate_fn=collate_fn, num_workers=4)\n",
    "\n",
    "loss_function = nn.BCEWithLogitsLoss()\n",
    "\n",
    "model_facebook = SimpleMLP(vocab_size=VOCAB_SIZE,\n",
    "                       embedding_dim=EMBED_DIM,\n",
    "                       hidden_dim1=HIDDEN_DIM1,\n",
    "                       hidden_dim2=HIDDEN_DIM2,\n",
    "                       drop_prob1=DROP_PROB1,\n",
    "                       drop_prob2=DROP_PROB2,\n",
    "                       num_outputs=NUM_OUTPUTS)\n",
    "\n",
    "optimizer = torch.optim.AdamW(model_facebook.parameters(), lr=LEARNING_RATE)\n",
    "device = torch.device('cuda:0' if torch.cuda.is_available() else 'cpu')"
   ]
  },
  {
   "cell_type": "code",
   "execution_count": 27,
   "metadata": {
    "colab": {
     "base_uri": "https://localhost:8080/"
    },
    "id": "771-2y9LqgWS",
    "outputId": "44d88341-32dd-42e8-9453-fae5ae8a7598"
   },
   "outputs": [
    {
     "name": "stderr",
     "output_type": "stream",
     "text": [
      "/usr/local/lib/python3.10/dist-packages/torch/utils/data/dataloader.py:557: UserWarning: This DataLoader will create 4 worker processes in total. Our suggested max number of worker in current system is 2, which is smaller than what this DataLoader is going to create. Please be aware that excessive worker creation might get DataLoader running slow or even freeze, lower the worker number to avoid potential slowness/freeze if necessary.\n",
      "  warnings.warn(_create_warning_msg(\n"
     ]
    },
    {
     "name": "stdout",
     "output_type": "stream",
     "text": [
      "Actual loss: 0.6975612044334412\n",
      "Expected Theoretical loss: 0.6931471805599453\n"
     ]
    }
   ],
   "source": [
    "for inputs, targets in train_loader:\n",
    "    inputs = tuple(input_tensor.to(device) for input_tensor in inputs)\n",
    "    targets = targets.to(dtype=torch.float32, copy=False).to(device)\n",
    "    model_facebook = model_facebook.to(device)\n",
    "    model_facebook.eval()\n",
    "\n",
    "    with torch.no_grad():\n",
    "        output = model_facebook(inputs)\n",
    "        loss = loss_function(output, targets)\n",
    "        print(f'Actual loss: {loss.item()}')\n",
    "    break\n",
    "\n",
    "print(f'Expected Theoretical loss: {np.log(2)}')"
   ]
  },
  {
   "cell_type": "code",
   "execution_count": 28,
   "metadata": {
    "colab": {
     "base_uri": "https://localhost:8080/"
    },
    "id": "6iyhakkzvxhm",
    "outputId": "ef35f183-3317-4193-b891-42e51f4f0405"
   },
   "outputs": [
    {
     "name": "stdout",
     "output_type": "stream",
     "text": [
      "Epoch 1/5\n",
      "Train Loss: 0.3963 | Train Hamming Loss: 0.17122822999954224\n",
      "Valid Loss: 0.2056 | Valid Hamming Loss: 0.07180052995681763\n",
      "\n",
      "Epoch 2/5\n",
      "Train Loss: 0.1678 | Train Hamming Loss: 0.05844312906265259\n",
      "Valid Loss: 0.1660 | Valid Hamming Loss: 0.060046374797821045\n",
      "\n",
      "Epoch 3/5\n",
      "Train Loss: 0.1351 | Train Hamming Loss: 0.04784047603607178\n",
      "Valid Loss: 0.1549 | Valid Hamming Loss: 0.055703163146972656\n",
      "\n",
      "Epoch 4/5\n",
      "Train Loss: 0.1168 | Train Hamming Loss: 0.04193991422653198\n",
      "Valid Loss: 0.1454 | Valid Hamming Loss: 0.050748467445373535\n",
      "\n",
      "Epoch 5/5\n",
      "Train Loss: 0.1029 | Train Hamming Loss: 0.03718852996826172\n",
      "Valid Loss: 0.1406 | Valid Hamming Loss: 0.04868227243423462\n",
      "\n",
      "CPU times: user 18.9 s, sys: 1.66 s, total: 20.5 s\n",
      "Wall time: 29.6 s\n"
     ]
    }
   ],
   "source": [
    "%%time\n",
    "train_losses, train_hamm, valid_losses, valid_hamm = train(\n",
    "    train_loader, valid_loader, model_facebook, optimizer, loss_function, EPOCHS, device, PATIENCE)"
   ]
  },
  {
   "cell_type": "code",
   "execution_count": 29,
   "metadata": {
    "id": "kt4PWG8q1Pzq"
   },
   "outputs": [],
   "source": [
    "import matplotlib.pyplot as plt\n",
    "def plot_history(train_losses, train_metrics, val_losses=None, val_metrics=None):\n",
    "    epochs = range(1, len(train_losses) + 1)\n",
    "    plt.figure()\n",
    "    plt.plot(epochs, train_losses, label=\"Train\")\n",
    "    if val_losses:\n",
    "        plt.plot(epochs, val_losses, label=\"Validation\")\n",
    "    plt.xlabel(\"Epochs\")\n",
    "    plt.ylabel(\"Loss\")\n",
    "    plt.legend()\n",
    "    plt.show()\n",
    "\n",
    "    if train_metrics[0] is not None:\n",
    "        plt.figure()\n",
    "        plt.plot(epochs, train_metrics, label=\"Train\")\n",
    "        if val_metrics:\n",
    "            plt.plot(epochs, val_metrics, label=\"Validation\")\n",
    "        plt.xlabel(\"Epochs\")\n",
    "        plt.ylabel(\"Metric (Hamming loss)\")\n",
    "        plt.legend()\n",
    "        plt.show()"
   ]
  },
  {
   "cell_type": "code",
   "execution_count": 30,
   "metadata": {
    "colab": {
     "base_uri": "https://localhost:8080/"
    },
    "id": "S21boMBGTCKI",
    "outputId": "438caef1-8f42-4429-a19c-53c824b7c7e3"
   },
   "outputs": [
    {
     "data": {
      "text/plain": [
       "0.17122822999954224"
      ]
     },
     "execution_count": 30,
     "metadata": {},
     "output_type": "execute_result"
    }
   ],
   "source": [
    "train_hamm[0].item()"
   ]
  },
  {
   "cell_type": "code",
   "execution_count": 31,
   "metadata": {
    "id": "uQDnmUwRS17c"
   },
   "outputs": [],
   "source": [
    "train_hamm = [i.item() for i in train_hamm]\n",
    "valid_hamm = [i.item() for i in valid_hamm]"
   ]
  },
  {
   "cell_type": "code",
   "execution_count": 32,
   "metadata": {
    "colab": {
     "base_uri": "https://localhost:8080/",
     "height": 881
    },
    "id": "Y5EL_LbX-18S",
    "outputId": "5a3261dc-3a50-4880-efd7-ce6dd3959fcc"
   },
   "outputs": [
    {
     "data": {
      "image/png": "[encoded data removed]",
      "text/plain": [
       "<Figure size 640x480 with 1 Axes>"
      ]
     },
     "metadata": {},
     "output_type": "display_data"
    },
    {
     "data": {
      "image/png": "[encoded data removed]",
      "text/plain": [
       "<Figure size 640x480 with 1 Axes>"
      ]
     },
     "metadata": {},
     "output_type": "display_data"
    }
   ],
   "source": [
    "plot_history(train_losses, train_hamm, valid_losses, valid_hamm)"
   ]
  },
  {
   "cell_type": "code",
   "execution_count": 33,
   "metadata": {
    "id": "4FZF-RpyNTVK"
   },
   "outputs": [],
   "source": [
    "def get_acc_pred(data_loader, model, device):\n",
    "    val_hamming_distance = HammingDistance(task=\"multilabel\", num_labels=10).to(device)\n",
    "    model = model.to(device)\n",
    "    model.eval()\n",
    "\n",
    "    predictions = torch.Tensor().to(device)\n",
    "    y = torch.Tensor().to(device)\n",
    "    running_correct = 0\n",
    "    with torch.no_grad():\n",
    "        for inputs, targets in data_loader:\n",
    "            targets = targets.to(device)\n",
    "            _, predicted = step(inputs, targets, model,\n",
    "                              device, loss_function=None, optimizer=None)\n",
    "\n",
    "            predictions = torch.cat((predictions, predicted))\n",
    "            y = torch.cat((y, targets))\n",
    "            val_hamming_distance.update(predicted, targets)\n",
    "\n",
    "    val_hamming_distance = val_hamming_distance.compute()\n",
    "\n",
    "    return predictions, y, val_hamming_distance.item()"
   ]
  },
  {
   "cell_type": "code",
   "execution_count": 34,
   "metadata": {
    "id": "qpTYvfBfNTQh"
   },
   "outputs": [],
   "source": [
    "predictions_test, labels_test, hamming_distance_test = get_acc_pred(test_loader, model_facebook, device)\n",
    "predictions_train, labels_train, hamming_distance_train = get_acc_pred(train_loader, model_facebook, device)\n",
    "predictions_val, labels_val, hamming_distance_val = get_acc_pred(valid_loader, model_facebook, device)"
   ]
  },
  {
   "cell_type": "code",
   "execution_count": 35,
   "metadata": {
    "colab": {
     "base_uri": "https://localhost:8080/"
    },
    "id": "mDsdYp52xhFo",
    "outputId": "2cbe3f6c-f0df-4e83-fe7c-9de027a4f0f3"
   },
   "outputs": [
    {
     "name": "stdout",
     "output_type": "stream",
     "text": [
      "Test hamming distance: 0.04128187894821167\n"
     ]
    }
   ],
   "source": [
    "# Print Test Accuracy\n",
    "print('Test hamming distance:', hamming_distance_test)"
   ]
  },
  {
   "cell_type": "code",
   "execution_count": 37,
   "metadata": {
    "colab": {
     "base_uri": "https://localhost:8080/"
    },
    "id": "79Pt6fYZGzbY",
    "outputId": "a71b902c-1c83-4e3b-9ed9-e945bde2cee3"
   },
   "outputs": [
    {
     "data": {
      "text/plain": [
       "(0.025605320930480957, 0.04106050729751587, 0.04128187894821167)"
      ]
     },
     "execution_count": 37,
     "metadata": {},
     "output_type": "execute_result"
    }
   ],
   "source": [
    "hamming_distance_train, hamming_distance_val, hamming_distance_test"
   ]
  },
  {
   "cell_type": "code",
   "execution_count": 36,
   "metadata": {
    "colab": {
     "base_uri": "https://localhost:8080/",
     "height": 452
    },
    "id": "bfbFFNfZyvoB",
    "outputId": "827859ca-36da-4279-9ce0-558f6865ad0b"
   },
   "outputs": [
    {
     "data": {
      "image/png": "[encoded data removed]",
      "text/plain": [
       "<Figure size 640x480 with 1 Axes>"
      ]
     },
     "metadata": {},
     "output_type": "display_data"
    }
   ],
   "source": [
    "import matplotlib.pyplot as plt\n",
    "\n",
    "# Scalar values\n",
    "values = [hamming_distance_train, hamming_distance_val, hamming_distance_test]\n",
    "labels = ['Train Data', 'Validation Data', 'Test data']\n",
    "\n",
    "# Plotting\n",
    "plt.bar(labels, values)\n",
    "plt.ylabel('Hamming Score')\n",
    "plt.title('Dataset')\n",
    "plt.show()"
   ]
  },
  {
   "cell_type": "markdown",
   "metadata": {
    "id": "bt9a51qwCx1D"
   },
   "source": [
    "The model demonstrates good generalization capabilities, as evidenced by the minimal increase in Hamming distance when moving from the training set to the validation and test sets. This minor uptick is typical when models encounter new data, indicating that the model is not overly fitted to the training data and retains its predictive accuracy on unseen data.\n",
    "\n",
    "The similarity in Hamming distances between the validation and test sets underscores the model's consistent performance across various unseen data sets. This consistency underscores the model’s dependability and stability.\n",
    "\n",
    "Considering the low Hamming distances observed across the board, it's evident that the model achieves a high level of accuracy in its predictions for this multi-label classification task, with incorrect predictions being as low as approximately 0.025 for the training set and around 0.041 and 0.041 for the validation and test sets respectively."
   ]
  },
  {
   "cell_type": "code",
   "execution_count": null,
   "metadata": {
    "id": "121Ew8uey2qQ"
   },
   "outputs": [],
   "source": []
  }
 ],
 "metadata": {
  "colab": {
   "provenance": []
  },
  "kernelspec": {
   "display_name": "Python 3",
   "language": "python",
   "name": "python3"
  },
  "language_info": {
   "codemirror_mode": {
    "name": "ipython",
    "version": 3
   },
   "file_extension": ".py",
   "mimetype": "text/x-python",
   "name": "python",
   "nbconvert_exporter": "python",
   "pygments_lexer": "ipython3",
   "version": "3.8.15"
  }
 },
 "nbformat": 4,
 "nbformat_minor": 4
}
